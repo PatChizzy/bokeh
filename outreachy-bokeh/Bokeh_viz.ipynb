{
 "cells": [
  {
   "cell_type": "markdown",
   "id": "30677086-ea64-4edc-8fab-88573c91383a",
   "metadata": {},
   "source": [
    "# Import libraries"
   ]
  },
  {
   "cell_type": "code",
   "execution_count": 1,
   "id": "37c7c014-1bf6-43ae-b562-2cfac33af2a3",
   "metadata": {},
   "outputs": [
    {
     "data": {
      "text/html": [
       "<style>\n",
       "        .bk-notebook-logo {\n",
       "            display: block;\n",
       "            width: 20px;\n",
       "            height: 20px;\n",
       "            background-image: url(data:image/png;base64,iVBORw0KGgoAAAANSUhEUgAAABQAAAAUCAYAAACNiR0NAAAABHNCSVQICAgIfAhkiAAAAAlwSFlzAAALEgAACxIB0t1+/AAAABx0RVh0U29mdHdhcmUAQWRvYmUgRmlyZXdvcmtzIENTNui8sowAAAOkSURBVDiNjZRtaJVlGMd/1/08zzln5zjP1LWcU9N0NkN8m2CYjpgQYQXqSs0I84OLIC0hkEKoPtiH3gmKoiJDU7QpLgoLjLIQCpEsNJ1vqUOdO7ppbuec5+V+rj4ctwzd8IIbbi6u+8f1539dt3A78eXC7QizUF7gyV1fD1Yqg4JWz84yffhm0qkFqBogB9rM8tZdtwVsPUhWhGcFJngGeWrPzHm5oaMmkfEg1usvLFyc8jLRqDOMru7AyC8saQr7GG7f5fvDeH7Ej8CM66nIF+8yngt6HWaKh7k49Soy9nXurCi1o3qUbS3zWfrYeQDTB/Qj6kX6Ybhw4B+bOYoLKCC9H3Nu/leUTZ1JdRWkkn2ldcCamzrcf47KKXdAJllSlxAOkRgyHsGC/zRday5Qld9DyoM4/q/rUoy/CXh3jzOu3bHUVZeU+DEn8FInkPBFlu3+nW3Nw0mk6vCDiWg8CeJaxEwuHS3+z5RgY+YBR6V1Z1nxSOfoaPa4LASWxxdNp+VWTk7+4vzaou8v8PN+xo+KY2xsw6une2frhw05CTYOmQvsEhjhWjn0bmXPjpE1+kplmmkP3suftwTubK9Vq22qKmrBhpY4jvd5afdRA3wGjFAgcnTK2s4hY0/GPNIb0nErGMCRxWOOX64Z8RAC4oCXdklmEvcL8o0BfkNK4lUg9HTl+oPlQxdNo3Mg4Nv175e/1LDGzZen30MEjRUtmXSfiTVu1kK8W4txyV6BMKlbgk3lMwYCiusNy9fVfvvwMxv8Ynl6vxoByANLTWplvuj/nF9m2+PDtt1eiHPBr1oIfhCChQMBw6Aw0UulqTKZdfVvfG7VcfIqLG9bcldL/+pdWTLxLUy8Qq38heUIjh4XlzZxzQm19lLFlr8vdQ97rjZVOLf8nclzckbcD4wxXMidpX30sFd37Fv/GtwwhzhxGVAprjbg0gCAEeIgwCZyTV2Z1REEW8O4py0wsjeloKoMr6iCY6dP92H6Vw/oTyICIthibxjm/DfN9lVz8IqtqKYLUXfoKVMVQVVJOElGjrnnUt9T9wbgp8AyYKaGlqingHZU/uG2NTZSVqwHQTWkx9hxjkpWDaCg6Ckj5qebgBVbT3V3NNXMSiWSDdGV3hrtzla7J+duwPOToIg42ChPQOQjspnSlp1V+Gjdged7+8UN5CRAV7a5EdFNwCjEaBR27b3W890TE7g24NAP/mMDXRWrGoFPQI9ls/MWO2dWFAar/xcOIImbbpA3zgAAAABJRU5ErkJggg==);\n",
       "        }\n",
       "    </style>\n",
       "    <div>\n",
       "        <a href=\"https://bokeh.org\" target=\"_blank\" class=\"bk-notebook-logo\"></a>\n",
       "        <span id=\"p1001\">Loading BokehJS ...</span>\n",
       "    </div>\n"
      ]
     },
     "metadata": {},
     "output_type": "display_data"
    },
    {
     "data": {
      "application/javascript": [
       "(function(root) {\n",
       "  function now() {\n",
       "    return new Date();\n",
       "  }\n",
       "\n",
       "  const force = true;\n",
       "\n",
       "  if (typeof root._bokeh_onload_callbacks === \"undefined\" || force === true) {\n",
       "    root._bokeh_onload_callbacks = [];\n",
       "    root._bokeh_is_loading = undefined;\n",
       "  }\n",
       "\n",
       "const JS_MIME_TYPE = 'application/javascript';\n",
       "  const HTML_MIME_TYPE = 'text/html';\n",
       "  const EXEC_MIME_TYPE = 'application/vnd.bokehjs_exec.v0+json';\n",
       "  const CLASS_NAME = 'output_bokeh rendered_html';\n",
       "\n",
       "  /**\n",
       "   * Render data to the DOM node\n",
       "   */\n",
       "  function render(props, node) {\n",
       "    const script = document.createElement(\"script\");\n",
       "    node.appendChild(script);\n",
       "  }\n",
       "\n",
       "  /**\n",
       "   * Handle when an output is cleared or removed\n",
       "   */\n",
       "  function handleClearOutput(event, handle) {\n",
       "    const cell = handle.cell;\n",
       "\n",
       "    const id = cell.output_area._bokeh_element_id;\n",
       "    const server_id = cell.output_area._bokeh_server_id;\n",
       "    // Clean up Bokeh references\n",
       "    if (id != null && id in Bokeh.index) {\n",
       "      Bokeh.index[id].model.document.clear();\n",
       "      delete Bokeh.index[id];\n",
       "    }\n",
       "\n",
       "    if (server_id !== undefined) {\n",
       "      // Clean up Bokeh references\n",
       "      const cmd_clean = \"from bokeh.io.state import curstate; print(curstate().uuid_to_server['\" + server_id + \"'].get_sessions()[0].document.roots[0]._id)\";\n",
       "      cell.notebook.kernel.execute(cmd_clean, {\n",
       "        iopub: {\n",
       "          output: function(msg) {\n",
       "            const id = msg.content.text.trim();\n",
       "            if (id in Bokeh.index) {\n",
       "              Bokeh.index[id].model.document.clear();\n",
       "              delete Bokeh.index[id];\n",
       "            }\n",
       "          }\n",
       "        }\n",
       "      });\n",
       "      // Destroy server and session\n",
       "      const cmd_destroy = \"import bokeh.io.notebook as ion; ion.destroy_server('\" + server_id + \"')\";\n",
       "      cell.notebook.kernel.execute(cmd_destroy);\n",
       "    }\n",
       "  }\n",
       "\n",
       "  /**\n",
       "   * Handle when a new output is added\n",
       "   */\n",
       "  function handleAddOutput(event, handle) {\n",
       "    const output_area = handle.output_area;\n",
       "    const output = handle.output;\n",
       "\n",
       "    // limit handleAddOutput to display_data with EXEC_MIME_TYPE content only\n",
       "    if ((output.output_type != \"display_data\") || (!Object.prototype.hasOwnProperty.call(output.data, EXEC_MIME_TYPE))) {\n",
       "      return\n",
       "    }\n",
       "\n",
       "    const toinsert = output_area.element.find(\".\" + CLASS_NAME.split(' ')[0]);\n",
       "\n",
       "    if (output.metadata[EXEC_MIME_TYPE][\"id\"] !== undefined) {\n",
       "      toinsert[toinsert.length - 1].firstChild.textContent = output.data[JS_MIME_TYPE];\n",
       "      // store reference to embed id on output_area\n",
       "      output_area._bokeh_element_id = output.metadata[EXEC_MIME_TYPE][\"id\"];\n",
       "    }\n",
       "    if (output.metadata[EXEC_MIME_TYPE][\"server_id\"] !== undefined) {\n",
       "      const bk_div = document.createElement(\"div\");\n",
       "      bk_div.innerHTML = output.data[HTML_MIME_TYPE];\n",
       "      const script_attrs = bk_div.children[0].attributes;\n",
       "      for (let i = 0; i < script_attrs.length; i++) {\n",
       "        toinsert[toinsert.length - 1].firstChild.setAttribute(script_attrs[i].name, script_attrs[i].value);\n",
       "        toinsert[toinsert.length - 1].firstChild.textContent = bk_div.children[0].textContent\n",
       "      }\n",
       "      // store reference to server id on output_area\n",
       "      output_area._bokeh_server_id = output.metadata[EXEC_MIME_TYPE][\"server_id\"];\n",
       "    }\n",
       "  }\n",
       "\n",
       "  function register_renderer(events, OutputArea) {\n",
       "\n",
       "    function append_mime(data, metadata, element) {\n",
       "      // create a DOM node to render to\n",
       "      const toinsert = this.create_output_subarea(\n",
       "        metadata,\n",
       "        CLASS_NAME,\n",
       "        EXEC_MIME_TYPE\n",
       "      );\n",
       "      this.keyboard_manager.register_events(toinsert);\n",
       "      // Render to node\n",
       "      const props = {data: data, metadata: metadata[EXEC_MIME_TYPE]};\n",
       "      render(props, toinsert[toinsert.length - 1]);\n",
       "      element.append(toinsert);\n",
       "      return toinsert\n",
       "    }\n",
       "\n",
       "    /* Handle when an output is cleared or removed */\n",
       "    events.on('clear_output.CodeCell', handleClearOutput);\n",
       "    events.on('delete.Cell', handleClearOutput);\n",
       "\n",
       "    /* Handle when a new output is added */\n",
       "    events.on('output_added.OutputArea', handleAddOutput);\n",
       "\n",
       "    /**\n",
       "     * Register the mime type and append_mime function with output_area\n",
       "     */\n",
       "    OutputArea.prototype.register_mime_type(EXEC_MIME_TYPE, append_mime, {\n",
       "      /* Is output safe? */\n",
       "      safe: true,\n",
       "      /* Index of renderer in `output_area.display_order` */\n",
       "      index: 0\n",
       "    });\n",
       "  }\n",
       "\n",
       "  // register the mime type if in Jupyter Notebook environment and previously unregistered\n",
       "  if (root.Jupyter !== undefined) {\n",
       "    const events = require('base/js/events');\n",
       "    const OutputArea = require('notebook/js/outputarea').OutputArea;\n",
       "\n",
       "    if (OutputArea.prototype.mime_types().indexOf(EXEC_MIME_TYPE) == -1) {\n",
       "      register_renderer(events, OutputArea);\n",
       "    }\n",
       "  }\n",
       "  if (typeof (root._bokeh_timeout) === \"undefined\" || force === true) {\n",
       "    root._bokeh_timeout = Date.now() + 5000;\n",
       "    root._bokeh_failed_load = false;\n",
       "  }\n",
       "\n",
       "  const NB_LOAD_WARNING = {'data': {'text/html':\n",
       "     \"<div style='background-color: #fdd'>\\n\"+\n",
       "     \"<p>\\n\"+\n",
       "     \"BokehJS does not appear to have successfully loaded. If loading BokehJS from CDN, this \\n\"+\n",
       "     \"may be due to a slow or bad network connection. Possible fixes:\\n\"+\n",
       "     \"</p>\\n\"+\n",
       "     \"<ul>\\n\"+\n",
       "     \"<li>re-rerun `output_notebook()` to attempt to load from CDN again, or</li>\\n\"+\n",
       "     \"<li>use INLINE resources instead, as so:</li>\\n\"+\n",
       "     \"</ul>\\n\"+\n",
       "     \"<code>\\n\"+\n",
       "     \"from bokeh.resources import INLINE\\n\"+\n",
       "     \"output_notebook(resources=INLINE)\\n\"+\n",
       "     \"</code>\\n\"+\n",
       "     \"</div>\"}};\n",
       "\n",
       "  function display_loaded() {\n",
       "    const el = document.getElementById(\"p1001\");\n",
       "    if (el != null) {\n",
       "      el.textContent = \"BokehJS is loading...\";\n",
       "    }\n",
       "    if (root.Bokeh !== undefined) {\n",
       "      if (el != null) {\n",
       "        el.textContent = \"BokehJS \" + root.Bokeh.version + \" successfully loaded.\";\n",
       "      }\n",
       "    } else if (Date.now() < root._bokeh_timeout) {\n",
       "      setTimeout(display_loaded, 100)\n",
       "    }\n",
       "  }\n",
       "\n",
       "  function run_callbacks() {\n",
       "    try {\n",
       "      root._bokeh_onload_callbacks.forEach(function(callback) {\n",
       "        if (callback != null)\n",
       "          callback();\n",
       "      });\n",
       "    } finally {\n",
       "      delete root._bokeh_onload_callbacks\n",
       "    }\n",
       "    console.debug(\"Bokeh: all callbacks have finished\");\n",
       "  }\n",
       "\n",
       "  function load_libs(css_urls, js_urls, callback) {\n",
       "    if (css_urls == null) css_urls = [];\n",
       "    if (js_urls == null) js_urls = [];\n",
       "\n",
       "    root._bokeh_onload_callbacks.push(callback);\n",
       "    if (root._bokeh_is_loading > 0) {\n",
       "      console.debug(\"Bokeh: BokehJS is being loaded, scheduling callback at\", now());\n",
       "      return null;\n",
       "    }\n",
       "    if (js_urls == null || js_urls.length === 0) {\n",
       "      run_callbacks();\n",
       "      return null;\n",
       "    }\n",
       "    console.debug(\"Bokeh: BokehJS not loaded, scheduling load and callback at\", now());\n",
       "    root._bokeh_is_loading = css_urls.length + js_urls.length;\n",
       "\n",
       "    function on_load() {\n",
       "      root._bokeh_is_loading--;\n",
       "      if (root._bokeh_is_loading === 0) {\n",
       "        console.debug(\"Bokeh: all BokehJS libraries/stylesheets loaded\");\n",
       "        run_callbacks()\n",
       "      }\n",
       "    }\n",
       "\n",
       "    function on_error(url) {\n",
       "      console.error(\"failed to load \" + url);\n",
       "    }\n",
       "\n",
       "    for (let i = 0; i < css_urls.length; i++) {\n",
       "      const url = css_urls[i];\n",
       "      const element = document.createElement(\"link\");\n",
       "      element.onload = on_load;\n",
       "      element.onerror = on_error.bind(null, url);\n",
       "      element.rel = \"stylesheet\";\n",
       "      element.type = \"text/css\";\n",
       "      element.href = url;\n",
       "      console.debug(\"Bokeh: injecting link tag for BokehJS stylesheet: \", url);\n",
       "      document.body.appendChild(element);\n",
       "    }\n",
       "\n",
       "    for (let i = 0; i < js_urls.length; i++) {\n",
       "      const url = js_urls[i];\n",
       "      const element = document.createElement('script');\n",
       "      element.onload = on_load;\n",
       "      element.onerror = on_error.bind(null, url);\n",
       "      element.async = false;\n",
       "      element.src = url;\n",
       "      console.debug(\"Bokeh: injecting script tag for BokehJS library: \", url);\n",
       "      document.head.appendChild(element);\n",
       "    }\n",
       "  };\n",
       "\n",
       "  function inject_raw_css(css) {\n",
       "    const element = document.createElement(\"style\");\n",
       "    element.appendChild(document.createTextNode(css));\n",
       "    document.body.appendChild(element);\n",
       "  }\n",
       "\n",
       "  const js_urls = [\"https://cdn.bokeh.org/bokeh/release/bokeh-3.1.0.min.js\", \"https://cdn.bokeh.org/bokeh/release/bokeh-gl-3.1.0.min.js\", \"https://cdn.bokeh.org/bokeh/release/bokeh-widgets-3.1.0.min.js\", \"https://cdn.bokeh.org/bokeh/release/bokeh-tables-3.1.0.min.js\", \"https://cdn.bokeh.org/bokeh/release/bokeh-mathjax-3.1.0.min.js\"];\n",
       "  const css_urls = [];\n",
       "\n",
       "  const inline_js = [    function(Bokeh) {\n",
       "      Bokeh.set_log_level(\"info\");\n",
       "    },\n",
       "function(Bokeh) {\n",
       "    }\n",
       "  ];\n",
       "\n",
       "  function run_inline_js() {\n",
       "    if (root.Bokeh !== undefined || force === true) {\n",
       "          for (let i = 0; i < inline_js.length; i++) {\n",
       "      inline_js[i].call(root, root.Bokeh);\n",
       "    }\n",
       "if (force === true) {\n",
       "        display_loaded();\n",
       "      }} else if (Date.now() < root._bokeh_timeout) {\n",
       "      setTimeout(run_inline_js, 100);\n",
       "    } else if (!root._bokeh_failed_load) {\n",
       "      console.log(\"Bokeh: BokehJS failed to load within specified timeout.\");\n",
       "      root._bokeh_failed_load = true;\n",
       "    } else if (force !== true) {\n",
       "      const cell = $(document.getElementById(\"p1001\")).parents('.cell').data().cell;\n",
       "      cell.output_area.append_execute_result(NB_LOAD_WARNING)\n",
       "    }\n",
       "  }\n",
       "\n",
       "  if (root._bokeh_is_loading === 0) {\n",
       "    console.debug(\"Bokeh: BokehJS loaded, going straight to plotting\");\n",
       "    run_inline_js();\n",
       "  } else {\n",
       "    load_libs(css_urls, js_urls, function() {\n",
       "      console.debug(\"Bokeh: BokehJS plotting callback run at\", now());\n",
       "      run_inline_js();\n",
       "    });\n",
       "  }\n",
       "}(window));"
      ],
      "application/vnd.bokehjs_load.v0+json": "(function(root) {\n  function now() {\n    return new Date();\n  }\n\n  const force = true;\n\n  if (typeof root._bokeh_onload_callbacks === \"undefined\" || force === true) {\n    root._bokeh_onload_callbacks = [];\n    root._bokeh_is_loading = undefined;\n  }\n\n\n  if (typeof (root._bokeh_timeout) === \"undefined\" || force === true) {\n    root._bokeh_timeout = Date.now() + 5000;\n    root._bokeh_failed_load = false;\n  }\n\n  const NB_LOAD_WARNING = {'data': {'text/html':\n     \"<div style='background-color: #fdd'>\\n\"+\n     \"<p>\\n\"+\n     \"BokehJS does not appear to have successfully loaded. If loading BokehJS from CDN, this \\n\"+\n     \"may be due to a slow or bad network connection. Possible fixes:\\n\"+\n     \"</p>\\n\"+\n     \"<ul>\\n\"+\n     \"<li>re-rerun `output_notebook()` to attempt to load from CDN again, or</li>\\n\"+\n     \"<li>use INLINE resources instead, as so:</li>\\n\"+\n     \"</ul>\\n\"+\n     \"<code>\\n\"+\n     \"from bokeh.resources import INLINE\\n\"+\n     \"output_notebook(resources=INLINE)\\n\"+\n     \"</code>\\n\"+\n     \"</div>\"}};\n\n  function display_loaded() {\n    const el = document.getElementById(\"p1001\");\n    if (el != null) {\n      el.textContent = \"BokehJS is loading...\";\n    }\n    if (root.Bokeh !== undefined) {\n      if (el != null) {\n        el.textContent = \"BokehJS \" + root.Bokeh.version + \" successfully loaded.\";\n      }\n    } else if (Date.now() < root._bokeh_timeout) {\n      setTimeout(display_loaded, 100)\n    }\n  }\n\n  function run_callbacks() {\n    try {\n      root._bokeh_onload_callbacks.forEach(function(callback) {\n        if (callback != null)\n          callback();\n      });\n    } finally {\n      delete root._bokeh_onload_callbacks\n    }\n    console.debug(\"Bokeh: all callbacks have finished\");\n  }\n\n  function load_libs(css_urls, js_urls, callback) {\n    if (css_urls == null) css_urls = [];\n    if (js_urls == null) js_urls = [];\n\n    root._bokeh_onload_callbacks.push(callback);\n    if (root._bokeh_is_loading > 0) {\n      console.debug(\"Bokeh: BokehJS is being loaded, scheduling callback at\", now());\n      return null;\n    }\n    if (js_urls == null || js_urls.length === 0) {\n      run_callbacks();\n      return null;\n    }\n    console.debug(\"Bokeh: BokehJS not loaded, scheduling load and callback at\", now());\n    root._bokeh_is_loading = css_urls.length + js_urls.length;\n\n    function on_load() {\n      root._bokeh_is_loading--;\n      if (root._bokeh_is_loading === 0) {\n        console.debug(\"Bokeh: all BokehJS libraries/stylesheets loaded\");\n        run_callbacks()\n      }\n    }\n\n    function on_error(url) {\n      console.error(\"failed to load \" + url);\n    }\n\n    for (let i = 0; i < css_urls.length; i++) {\n      const url = css_urls[i];\n      const element = document.createElement(\"link\");\n      element.onload = on_load;\n      element.onerror = on_error.bind(null, url);\n      element.rel = \"stylesheet\";\n      element.type = \"text/css\";\n      element.href = url;\n      console.debug(\"Bokeh: injecting link tag for BokehJS stylesheet: \", url);\n      document.body.appendChild(element);\n    }\n\n    for (let i = 0; i < js_urls.length; i++) {\n      const url = js_urls[i];\n      const element = document.createElement('script');\n      element.onload = on_load;\n      element.onerror = on_error.bind(null, url);\n      element.async = false;\n      element.src = url;\n      console.debug(\"Bokeh: injecting script tag for BokehJS library: \", url);\n      document.head.appendChild(element);\n    }\n  };\n\n  function inject_raw_css(css) {\n    const element = document.createElement(\"style\");\n    element.appendChild(document.createTextNode(css));\n    document.body.appendChild(element);\n  }\n\n  const js_urls = [\"https://cdn.bokeh.org/bokeh/release/bokeh-3.1.0.min.js\", \"https://cdn.bokeh.org/bokeh/release/bokeh-gl-3.1.0.min.js\", \"https://cdn.bokeh.org/bokeh/release/bokeh-widgets-3.1.0.min.js\", \"https://cdn.bokeh.org/bokeh/release/bokeh-tables-3.1.0.min.js\", \"https://cdn.bokeh.org/bokeh/release/bokeh-mathjax-3.1.0.min.js\"];\n  const css_urls = [];\n\n  const inline_js = [    function(Bokeh) {\n      Bokeh.set_log_level(\"info\");\n    },\nfunction(Bokeh) {\n    }\n  ];\n\n  function run_inline_js() {\n    if (root.Bokeh !== undefined || force === true) {\n          for (let i = 0; i < inline_js.length; i++) {\n      inline_js[i].call(root, root.Bokeh);\n    }\nif (force === true) {\n        display_loaded();\n      }} else if (Date.now() < root._bokeh_timeout) {\n      setTimeout(run_inline_js, 100);\n    } else if (!root._bokeh_failed_load) {\n      console.log(\"Bokeh: BokehJS failed to load within specified timeout.\");\n      root._bokeh_failed_load = true;\n    } else if (force !== true) {\n      const cell = $(document.getElementById(\"p1001\")).parents('.cell').data().cell;\n      cell.output_area.append_execute_result(NB_LOAD_WARNING)\n    }\n  }\n\n  if (root._bokeh_is_loading === 0) {\n    console.debug(\"Bokeh: BokehJS loaded, going straight to plotting\");\n    run_inline_js();\n  } else {\n    load_libs(css_urls, js_urls, function() {\n      console.debug(\"Bokeh: BokehJS plotting callback run at\", now());\n      run_inline_js();\n    });\n  }\n}(window));"
     },
     "metadata": {},
     "output_type": "display_data"
    }
   ],
   "source": [
    "import numpy as np\n",
    "import pandas as pd\n",
    "from bokeh.plotting import figure, show\n",
    "from bokeh.models import ColumnDataSource\n",
    "from bokeh.transform import factor_cmap\n",
    "from bokeh.palettes import Spectral6\n",
    "from bokeh.palettes import Spectral5\n",
    "from bokeh.layouts import gridplot\n",
    "from bokeh.io import output_notebook\n",
    "from bokeh.palettes import Category20\n",
    "\n",
    "from bokeh.io import export_png\n",
    "\n",
    "\n",
    "output_notebook()"
   ]
  },
  {
   "cell_type": "markdown",
   "id": "6521ad4b-cb0f-4b83-81af-895121247546",
   "metadata": {},
   "source": [
    "--------------\n",
    "\n",
    "The datasize is large. for this experimentation, i'll use only record for one month"
   ]
  },
  {
   "cell_type": "markdown",
   "id": "d7b3cfd4-1e51-4f0a-a4d3-31612b047021",
   "metadata": {},
   "source": [
    "# Read data for only april 2022"
   ]
  },
  {
   "cell_type": "code",
   "execution_count": 2,
   "id": "b0c431cf-9e9a-4aee-a604-b4e676715197",
   "metadata": {},
   "outputs": [],
   "source": [
    "df = pd.read_parquet('data/yellow_tripdata_2022-04.parquet')"
   ]
  },
  {
   "cell_type": "code",
   "execution_count": 3,
   "id": "5d2042cc-6fd1-4c17-a7ec-227a81b96cf5",
   "metadata": {},
   "outputs": [
    {
     "data": {
      "text/html": [
       "<div>\n",
       "<style scoped>\n",
       "    .dataframe tbody tr th:only-of-type {\n",
       "        vertical-align: middle;\n",
       "    }\n",
       "\n",
       "    .dataframe tbody tr th {\n",
       "        vertical-align: top;\n",
       "    }\n",
       "\n",
       "    .dataframe thead th {\n",
       "        text-align: right;\n",
       "    }\n",
       "</style>\n",
       "<table border=\"1\" class=\"dataframe\">\n",
       "  <thead>\n",
       "    <tr style=\"text-align: right;\">\n",
       "      <th></th>\n",
       "      <th>VendorID</th>\n",
       "      <th>tpep_pickup_datetime</th>\n",
       "      <th>tpep_dropoff_datetime</th>\n",
       "      <th>passenger_count</th>\n",
       "      <th>trip_distance</th>\n",
       "      <th>RatecodeID</th>\n",
       "      <th>store_and_fwd_flag</th>\n",
       "      <th>PULocationID</th>\n",
       "      <th>DOLocationID</th>\n",
       "      <th>payment_type</th>\n",
       "      <th>fare_amount</th>\n",
       "      <th>extra</th>\n",
       "      <th>mta_tax</th>\n",
       "      <th>tip_amount</th>\n",
       "      <th>tolls_amount</th>\n",
       "      <th>improvement_surcharge</th>\n",
       "      <th>total_amount</th>\n",
       "      <th>congestion_surcharge</th>\n",
       "      <th>airport_fee</th>\n",
       "    </tr>\n",
       "  </thead>\n",
       "  <tbody>\n",
       "    <tr>\n",
       "      <th>0</th>\n",
       "      <td>1</td>\n",
       "      <td>2022-04-01 00:21:13</td>\n",
       "      <td>2022-04-01 00:58:33</td>\n",
       "      <td>1.0</td>\n",
       "      <td>10.30</td>\n",
       "      <td>1.0</td>\n",
       "      <td>N</td>\n",
       "      <td>163</td>\n",
       "      <td>62</td>\n",
       "      <td>1</td>\n",
       "      <td>33.5</td>\n",
       "      <td>3.0</td>\n",
       "      <td>0.5</td>\n",
       "      <td>7.45</td>\n",
       "      <td>0.0</td>\n",
       "      <td>0.3</td>\n",
       "      <td>44.75</td>\n",
       "      <td>2.5</td>\n",
       "      <td>0.0</td>\n",
       "    </tr>\n",
       "    <tr>\n",
       "      <th>1</th>\n",
       "      <td>1</td>\n",
       "      <td>2022-04-01 00:07:47</td>\n",
       "      <td>2022-04-01 00:19:12</td>\n",
       "      <td>0.0</td>\n",
       "      <td>2.00</td>\n",
       "      <td>1.0</td>\n",
       "      <td>N</td>\n",
       "      <td>142</td>\n",
       "      <td>141</td>\n",
       "      <td>1</td>\n",
       "      <td>10.0</td>\n",
       "      <td>3.0</td>\n",
       "      <td>0.5</td>\n",
       "      <td>4.10</td>\n",
       "      <td>0.0</td>\n",
       "      <td>0.3</td>\n",
       "      <td>17.90</td>\n",
       "      <td>2.5</td>\n",
       "      <td>0.0</td>\n",
       "    </tr>\n",
       "    <tr>\n",
       "      <th>2</th>\n",
       "      <td>1</td>\n",
       "      <td>2022-04-01 00:14:52</td>\n",
       "      <td>2022-04-01 00:23:43</td>\n",
       "      <td>1.0</td>\n",
       "      <td>1.00</td>\n",
       "      <td>1.0</td>\n",
       "      <td>N</td>\n",
       "      <td>79</td>\n",
       "      <td>148</td>\n",
       "      <td>1</td>\n",
       "      <td>7.0</td>\n",
       "      <td>3.0</td>\n",
       "      <td>0.5</td>\n",
       "      <td>2.15</td>\n",
       "      <td>0.0</td>\n",
       "      <td>0.3</td>\n",
       "      <td>12.95</td>\n",
       "      <td>2.5</td>\n",
       "      <td>0.0</td>\n",
       "    </tr>\n",
       "    <tr>\n",
       "      <th>3</th>\n",
       "      <td>1</td>\n",
       "      <td>2022-04-01 00:30:02</td>\n",
       "      <td>2022-04-01 00:45:06</td>\n",
       "      <td>1.0</td>\n",
       "      <td>2.60</td>\n",
       "      <td>1.0</td>\n",
       "      <td>N</td>\n",
       "      <td>79</td>\n",
       "      <td>13</td>\n",
       "      <td>1</td>\n",
       "      <td>12.0</td>\n",
       "      <td>3.0</td>\n",
       "      <td>0.5</td>\n",
       "      <td>4.70</td>\n",
       "      <td>0.0</td>\n",
       "      <td>0.3</td>\n",
       "      <td>20.50</td>\n",
       "      <td>2.5</td>\n",
       "      <td>0.0</td>\n",
       "    </tr>\n",
       "    <tr>\n",
       "      <th>4</th>\n",
       "      <td>2</td>\n",
       "      <td>2022-04-01 00:48:40</td>\n",
       "      <td>2022-04-01 01:03:34</td>\n",
       "      <td>1.0</td>\n",
       "      <td>2.79</td>\n",
       "      <td>1.0</td>\n",
       "      <td>N</td>\n",
       "      <td>238</td>\n",
       "      <td>116</td>\n",
       "      <td>4</td>\n",
       "      <td>-12.5</td>\n",
       "      <td>-0.5</td>\n",
       "      <td>-0.5</td>\n",
       "      <td>0.00</td>\n",
       "      <td>0.0</td>\n",
       "      <td>-0.3</td>\n",
       "      <td>-13.80</td>\n",
       "      <td>0.0</td>\n",
       "      <td>0.0</td>\n",
       "    </tr>\n",
       "  </tbody>\n",
       "</table>\n",
       "</div>"
      ],
      "text/plain": [
       "   VendorID tpep_pickup_datetime tpep_dropoff_datetime  passenger_count  \\\n",
       "0         1  2022-04-01 00:21:13   2022-04-01 00:58:33              1.0   \n",
       "1         1  2022-04-01 00:07:47   2022-04-01 00:19:12              0.0   \n",
       "2         1  2022-04-01 00:14:52   2022-04-01 00:23:43              1.0   \n",
       "3         1  2022-04-01 00:30:02   2022-04-01 00:45:06              1.0   \n",
       "4         2  2022-04-01 00:48:40   2022-04-01 01:03:34              1.0   \n",
       "\n",
       "   trip_distance  RatecodeID store_and_fwd_flag  PULocationID  DOLocationID  \\\n",
       "0          10.30         1.0                  N           163            62   \n",
       "1           2.00         1.0                  N           142           141   \n",
       "2           1.00         1.0                  N            79           148   \n",
       "3           2.60         1.0                  N            79            13   \n",
       "4           2.79         1.0                  N           238           116   \n",
       "\n",
       "   payment_type  fare_amount  extra  mta_tax  tip_amount  tolls_amount  \\\n",
       "0             1         33.5    3.0      0.5        7.45           0.0   \n",
       "1             1         10.0    3.0      0.5        4.10           0.0   \n",
       "2             1          7.0    3.0      0.5        2.15           0.0   \n",
       "3             1         12.0    3.0      0.5        4.70           0.0   \n",
       "4             4        -12.5   -0.5     -0.5        0.00           0.0   \n",
       "\n",
       "   improvement_surcharge  total_amount  congestion_surcharge  airport_fee  \n",
       "0                    0.3         44.75                   2.5          0.0  \n",
       "1                    0.3         17.90                   2.5          0.0  \n",
       "2                    0.3         12.95                   2.5          0.0  \n",
       "3                    0.3         20.50                   2.5          0.0  \n",
       "4                   -0.3        -13.80                   0.0          0.0  "
      ]
     },
     "execution_count": 3,
     "metadata": {},
     "output_type": "execute_result"
    }
   ],
   "source": [
    "df.head()"
   ]
  },
  {
   "cell_type": "code",
   "execution_count": 4,
   "id": "88ce6db8-57c3-4488-adb7-358084079802",
   "metadata": {},
   "outputs": [
    {
     "data": {
      "text/plain": [
       "VendorID                      0\n",
       "tpep_pickup_datetime          0\n",
       "tpep_dropoff_datetime         0\n",
       "passenger_count          118874\n",
       "trip_distance                 0\n",
       "RatecodeID               118874\n",
       "store_and_fwd_flag       118874\n",
       "PULocationID                  0\n",
       "DOLocationID                  0\n",
       "payment_type                  0\n",
       "fare_amount                   0\n",
       "extra                         0\n",
       "mta_tax                       0\n",
       "tip_amount                    0\n",
       "tolls_amount                  0\n",
       "improvement_surcharge         0\n",
       "total_amount                  0\n",
       "congestion_surcharge     118874\n",
       "airport_fee              118874\n",
       "dtype: int64"
      ]
     },
     "execution_count": 4,
     "metadata": {},
     "output_type": "execute_result"
    }
   ],
   "source": [
    "df.isnull().sum()"
   ]
  },
  {
   "cell_type": "code",
   "execution_count": 5,
   "id": "96b315f8-5270-4453-853f-a22eadb07e8a",
   "metadata": {},
   "outputs": [
    {
     "data": {
      "text/plain": [
       "(3599920, 19)"
      ]
     },
     "execution_count": 5,
     "metadata": {},
     "output_type": "execute_result"
    }
   ],
   "source": [
    "df.shape"
   ]
  },
  {
   "cell_type": "markdown",
   "id": "52ec3c14-4163-4d00-9b73-e08021a6a4bf",
   "metadata": {},
   "source": [
    "------------------\n",
    "\n",
    "Large number of missing data. I'll filter row wise to reduce observations further"
   ]
  },
  {
   "cell_type": "markdown",
   "id": "8bd1d44a-981a-49d3-a7c9-2b34b23e8d56",
   "metadata": {},
   "source": [
    "## Filter data"
   ]
  },
  {
   "cell_type": "code",
   "execution_count": 6,
   "id": "872c5678-d583-4f19-a318-3997ed7a84ea",
   "metadata": {},
   "outputs": [],
   "source": [
    "df = df[df['congestion_surcharge'].notnull()]"
   ]
  },
  {
   "cell_type": "code",
   "execution_count": 7,
   "id": "2a60d29c-e44c-4a96-ad25-57019e904c0b",
   "metadata": {},
   "outputs": [
    {
     "data": {
      "text/plain": [
       "VendorID                 0\n",
       "tpep_pickup_datetime     0\n",
       "tpep_dropoff_datetime    0\n",
       "passenger_count          0\n",
       "trip_distance            0\n",
       "RatecodeID               0\n",
       "store_and_fwd_flag       0\n",
       "PULocationID             0\n",
       "DOLocationID             0\n",
       "payment_type             0\n",
       "fare_amount              0\n",
       "extra                    0\n",
       "mta_tax                  0\n",
       "tip_amount               0\n",
       "tolls_amount             0\n",
       "improvement_surcharge    0\n",
       "total_amount             0\n",
       "congestion_surcharge     0\n",
       "airport_fee              0\n",
       "dtype: int64"
      ]
     },
     "execution_count": 7,
     "metadata": {},
     "output_type": "execute_result"
    }
   ],
   "source": [
    "df.isnull().sum()"
   ]
  },
  {
   "cell_type": "code",
   "execution_count": 8,
   "id": "e0fc10e4-1b9f-4794-af9b-149ef8ddedbf",
   "metadata": {},
   "outputs": [
    {
     "data": {
      "text/plain": [
       "(3481046, 19)"
      ]
     },
     "execution_count": 8,
     "metadata": {},
     "output_type": "execute_result"
    }
   ],
   "source": [
    "df.shape"
   ]
  },
  {
   "cell_type": "markdown",
   "id": "58c909ff-60bd-4f47-82f9-9c4ccd18543c",
   "metadata": {},
   "source": [
    "----------------\n",
    "\n",
    "No more missing values, but data size is still large.. I'll randomly select only 5000 rows"
   ]
  },
  {
   "cell_type": "code",
   "execution_count": 9,
   "id": "99eb998a-1f61-4031-9b58-cba4a3e49a34",
   "metadata": {},
   "outputs": [],
   "source": [
    "df = df[df['congestion_surcharge'].notnull()].sample(n=5000, random_state=42)"
   ]
  },
  {
   "cell_type": "code",
   "execution_count": 10,
   "id": "fa2a0704-0d2d-4c01-8f84-224975bebc22",
   "metadata": {},
   "outputs": [
    {
     "data": {
      "text/plain": [
       "(5000, 19)"
      ]
     },
     "execution_count": 10,
     "metadata": {},
     "output_type": "execute_result"
    }
   ],
   "source": [
    "df.shape"
   ]
  },
  {
   "cell_type": "markdown",
   "id": "2f819f8e-fd7f-40ca-955b-8b436cd8d8d4",
   "metadata": {},
   "source": [
    "## Assess data information"
   ]
  },
  {
   "cell_type": "code",
   "execution_count": 11,
   "id": "36f2a59d-69e4-4d70-83c7-5d70520e65df",
   "metadata": {},
   "outputs": [
    {
     "name": "stdout",
     "output_type": "stream",
     "text": [
      "<class 'pandas.core.frame.DataFrame'>\n",
      "Int64Index: 5000 entries, 2617782 to 3156189\n",
      "Data columns (total 19 columns):\n",
      " #   Column                 Non-Null Count  Dtype         \n",
      "---  ------                 --------------  -----         \n",
      " 0   VendorID               5000 non-null   int64         \n",
      " 1   tpep_pickup_datetime   5000 non-null   datetime64[ns]\n",
      " 2   tpep_dropoff_datetime  5000 non-null   datetime64[ns]\n",
      " 3   passenger_count        5000 non-null   float64       \n",
      " 4   trip_distance          5000 non-null   float64       \n",
      " 5   RatecodeID             5000 non-null   float64       \n",
      " 6   store_and_fwd_flag     5000 non-null   object        \n",
      " 7   PULocationID           5000 non-null   int64         \n",
      " 8   DOLocationID           5000 non-null   int64         \n",
      " 9   payment_type           5000 non-null   int64         \n",
      " 10  fare_amount            5000 non-null   float64       \n",
      " 11  extra                  5000 non-null   float64       \n",
      " 12  mta_tax                5000 non-null   float64       \n",
      " 13  tip_amount             5000 non-null   float64       \n",
      " 14  tolls_amount           5000 non-null   float64       \n",
      " 15  improvement_surcharge  5000 non-null   float64       \n",
      " 16  total_amount           5000 non-null   float64       \n",
      " 17  congestion_surcharge   5000 non-null   float64       \n",
      " 18  airport_fee            5000 non-null   float64       \n",
      "dtypes: datetime64[ns](2), float64(12), int64(4), object(1)\n",
      "memory usage: 781.2+ KB\n"
     ]
    }
   ],
   "source": [
    "df.info()"
   ]
  },
  {
   "cell_type": "code",
   "execution_count": 12,
   "id": "2252d122-82c1-4170-a04a-960811555404",
   "metadata": {},
   "outputs": [
    {
     "data": {
      "text/plain": [
       "Index(['VendorID', 'tpep_pickup_datetime', 'tpep_dropoff_datetime',\n",
       "       'passenger_count', 'trip_distance', 'RatecodeID', 'store_and_fwd_flag',\n",
       "       'PULocationID', 'DOLocationID', 'payment_type', 'fare_amount', 'extra',\n",
       "       'mta_tax', 'tip_amount', 'tolls_amount', 'improvement_surcharge',\n",
       "       'total_amount', 'congestion_surcharge', 'airport_fee'],\n",
       "      dtype='object')"
      ]
     },
     "execution_count": 12,
     "metadata": {},
     "output_type": "execute_result"
    }
   ],
   "source": [
    "df.columns"
   ]
  },
  {
   "cell_type": "code",
   "execution_count": 13,
   "id": "786b6c6d-76cb-42f5-8296-0853625785d5",
   "metadata": {},
   "outputs": [
    {
     "data": {
      "text/html": [
       "<div>\n",
       "<style scoped>\n",
       "    .dataframe tbody tr th:only-of-type {\n",
       "        vertical-align: middle;\n",
       "    }\n",
       "\n",
       "    .dataframe tbody tr th {\n",
       "        vertical-align: top;\n",
       "    }\n",
       "\n",
       "    .dataframe thead th {\n",
       "        text-align: right;\n",
       "    }\n",
       "</style>\n",
       "<table border=\"1\" class=\"dataframe\">\n",
       "  <thead>\n",
       "    <tr style=\"text-align: right;\">\n",
       "      <th></th>\n",
       "      <th>VendorID</th>\n",
       "      <th>tpep_pickup_datetime</th>\n",
       "      <th>tpep_dropoff_datetime</th>\n",
       "      <th>passenger_count</th>\n",
       "      <th>trip_distance</th>\n",
       "      <th>RatecodeID</th>\n",
       "      <th>store_and_fwd_flag</th>\n",
       "      <th>PULocationID</th>\n",
       "      <th>DOLocationID</th>\n",
       "      <th>payment_type</th>\n",
       "      <th>fare_amount</th>\n",
       "      <th>extra</th>\n",
       "      <th>mta_tax</th>\n",
       "      <th>tip_amount</th>\n",
       "      <th>tolls_amount</th>\n",
       "      <th>improvement_surcharge</th>\n",
       "      <th>total_amount</th>\n",
       "      <th>congestion_surcharge</th>\n",
       "      <th>airport_fee</th>\n",
       "    </tr>\n",
       "  </thead>\n",
       "  <tbody>\n",
       "    <tr>\n",
       "      <th>2617782</th>\n",
       "      <td>2</td>\n",
       "      <td>2022-04-23 16:38:04</td>\n",
       "      <td>2022-04-23 16:55:47</td>\n",
       "      <td>1.0</td>\n",
       "      <td>1.7</td>\n",
       "      <td>1.0</td>\n",
       "      <td>N</td>\n",
       "      <td>161</td>\n",
       "      <td>234</td>\n",
       "      <td>1</td>\n",
       "      <td>12.0</td>\n",
       "      <td>0.0</td>\n",
       "      <td>0.5</td>\n",
       "      <td>3.06</td>\n",
       "      <td>0.0</td>\n",
       "      <td>0.3</td>\n",
       "      <td>18.36</td>\n",
       "      <td>2.5</td>\n",
       "      <td>0.0</td>\n",
       "    </tr>\n",
       "    <tr>\n",
       "      <th>3419462</th>\n",
       "      <td>1</td>\n",
       "      <td>2022-04-30 15:19:30</td>\n",
       "      <td>2022-04-30 15:34:07</td>\n",
       "      <td>3.0</td>\n",
       "      <td>2.2</td>\n",
       "      <td>1.0</td>\n",
       "      <td>N</td>\n",
       "      <td>142</td>\n",
       "      <td>24</td>\n",
       "      <td>1</td>\n",
       "      <td>11.5</td>\n",
       "      <td>2.5</td>\n",
       "      <td>0.5</td>\n",
       "      <td>2.96</td>\n",
       "      <td>0.0</td>\n",
       "      <td>0.3</td>\n",
       "      <td>17.76</td>\n",
       "      <td>2.5</td>\n",
       "      <td>0.0</td>\n",
       "    </tr>\n",
       "  </tbody>\n",
       "</table>\n",
       "</div>"
      ],
      "text/plain": [
       "         VendorID tpep_pickup_datetime tpep_dropoff_datetime  passenger_count  \\\n",
       "2617782         2  2022-04-23 16:38:04   2022-04-23 16:55:47              1.0   \n",
       "3419462         1  2022-04-30 15:19:30   2022-04-30 15:34:07              3.0   \n",
       "\n",
       "         trip_distance  RatecodeID store_and_fwd_flag  PULocationID  \\\n",
       "2617782            1.7         1.0                  N           161   \n",
       "3419462            2.2         1.0                  N           142   \n",
       "\n",
       "         DOLocationID  payment_type  fare_amount  extra  mta_tax  tip_amount  \\\n",
       "2617782           234             1         12.0    0.0      0.5        3.06   \n",
       "3419462            24             1         11.5    2.5      0.5        2.96   \n",
       "\n",
       "         tolls_amount  improvement_surcharge  total_amount  \\\n",
       "2617782           0.0                    0.3         18.36   \n",
       "3419462           0.0                    0.3         17.76   \n",
       "\n",
       "         congestion_surcharge  airport_fee  \n",
       "2617782                   2.5          0.0  \n",
       "3419462                   2.5          0.0  "
      ]
     },
     "execution_count": 13,
     "metadata": {},
     "output_type": "execute_result"
    }
   ],
   "source": [
    "df.head(2)"
   ]
  },
  {
   "cell_type": "markdown",
   "id": "28669eb5-1f31-4925-b77c-306108603e3b",
   "metadata": {},
   "source": [
    "## Extract features"
   ]
  },
  {
   "cell_type": "code",
   "execution_count": 14,
   "id": "976220bd-b56e-4c8c-a476-576055683c36",
   "metadata": {},
   "outputs": [],
   "source": [
    "# extract the day of the week and hour of the day into separate columns\n",
    "df['pickup_dayofweek'] = df['tpep_pickup_datetime'].dt.day_name()\n",
    "df['pickup_hour'] = df['tpep_pickup_datetime'].dt.hour\n",
    "\n",
    "df['dropoff_dayofweek'] = df['tpep_dropoff_datetime'].dt.day_name()\n",
    "df['dropoff_hour'] = df['tpep_dropoff_datetime'].dt.hour"
   ]
  },
  {
   "cell_type": "code",
   "execution_count": 15,
   "id": "ff0b8f58-5df9-4a84-bd2f-82afbe6fef18",
   "metadata": {},
   "outputs": [],
   "source": [
    "# # extract part of the day\n",
    "# bins = [-1, 4, 11, 16, 23] # define the bins for different parts of day\n",
    "# labels = ['late night', 'morning', 'afternoon', 'evening'] # define the labels for each bin\n",
    "\n",
    "# df['pickup_partofday'] = pd.cut(df['pickup_hour'], bins=bins, labels=labels)\n",
    "# df['dropoff_partofday'] = pd.cut(df['dropoff_hour'], bins=bins, labels=labels)"
   ]
  },
  {
   "cell_type": "code",
   "execution_count": 16,
   "id": "3a134c6e-d332-4b6c-9f23-fadab880f7ff",
   "metadata": {},
   "outputs": [
    {
     "data": {
      "text/html": [
       "<div>\n",
       "<style scoped>\n",
       "    .dataframe tbody tr th:only-of-type {\n",
       "        vertical-align: middle;\n",
       "    }\n",
       "\n",
       "    .dataframe tbody tr th {\n",
       "        vertical-align: top;\n",
       "    }\n",
       "\n",
       "    .dataframe thead th {\n",
       "        text-align: right;\n",
       "    }\n",
       "</style>\n",
       "<table border=\"1\" class=\"dataframe\">\n",
       "  <thead>\n",
       "    <tr style=\"text-align: right;\">\n",
       "      <th></th>\n",
       "      <th>VendorID</th>\n",
       "      <th>tpep_pickup_datetime</th>\n",
       "      <th>tpep_dropoff_datetime</th>\n",
       "      <th>passenger_count</th>\n",
       "      <th>trip_distance</th>\n",
       "      <th>RatecodeID</th>\n",
       "      <th>store_and_fwd_flag</th>\n",
       "      <th>PULocationID</th>\n",
       "      <th>DOLocationID</th>\n",
       "      <th>payment_type</th>\n",
       "      <th>...</th>\n",
       "      <th>tip_amount</th>\n",
       "      <th>tolls_amount</th>\n",
       "      <th>improvement_surcharge</th>\n",
       "      <th>total_amount</th>\n",
       "      <th>congestion_surcharge</th>\n",
       "      <th>airport_fee</th>\n",
       "      <th>pickup_dayofweek</th>\n",
       "      <th>pickup_hour</th>\n",
       "      <th>dropoff_dayofweek</th>\n",
       "      <th>dropoff_hour</th>\n",
       "    </tr>\n",
       "  </thead>\n",
       "  <tbody>\n",
       "    <tr>\n",
       "      <th>2617782</th>\n",
       "      <td>2</td>\n",
       "      <td>2022-04-23 16:38:04</td>\n",
       "      <td>2022-04-23 16:55:47</td>\n",
       "      <td>1.0</td>\n",
       "      <td>1.70</td>\n",
       "      <td>1.0</td>\n",
       "      <td>N</td>\n",
       "      <td>161</td>\n",
       "      <td>234</td>\n",
       "      <td>1</td>\n",
       "      <td>...</td>\n",
       "      <td>3.06</td>\n",
       "      <td>0.0</td>\n",
       "      <td>0.3</td>\n",
       "      <td>18.36</td>\n",
       "      <td>2.5</td>\n",
       "      <td>0.0</td>\n",
       "      <td>Saturday</td>\n",
       "      <td>16</td>\n",
       "      <td>Saturday</td>\n",
       "      <td>16</td>\n",
       "    </tr>\n",
       "    <tr>\n",
       "      <th>3419462</th>\n",
       "      <td>1</td>\n",
       "      <td>2022-04-30 15:19:30</td>\n",
       "      <td>2022-04-30 15:34:07</td>\n",
       "      <td>3.0</td>\n",
       "      <td>2.20</td>\n",
       "      <td>1.0</td>\n",
       "      <td>N</td>\n",
       "      <td>142</td>\n",
       "      <td>24</td>\n",
       "      <td>1</td>\n",
       "      <td>...</td>\n",
       "      <td>2.96</td>\n",
       "      <td>0.0</td>\n",
       "      <td>0.3</td>\n",
       "      <td>17.76</td>\n",
       "      <td>2.5</td>\n",
       "      <td>0.0</td>\n",
       "      <td>Saturday</td>\n",
       "      <td>15</td>\n",
       "      <td>Saturday</td>\n",
       "      <td>15</td>\n",
       "    </tr>\n",
       "    <tr>\n",
       "      <th>1654815</th>\n",
       "      <td>2</td>\n",
       "      <td>2022-04-15 08:34:48</td>\n",
       "      <td>2022-04-15 08:44:52</td>\n",
       "      <td>1.0</td>\n",
       "      <td>1.68</td>\n",
       "      <td>1.0</td>\n",
       "      <td>N</td>\n",
       "      <td>162</td>\n",
       "      <td>50</td>\n",
       "      <td>1</td>\n",
       "      <td>...</td>\n",
       "      <td>2.46</td>\n",
       "      <td>0.0</td>\n",
       "      <td>0.3</td>\n",
       "      <td>14.76</td>\n",
       "      <td>2.5</td>\n",
       "      <td>0.0</td>\n",
       "      <td>Friday</td>\n",
       "      <td>8</td>\n",
       "      <td>Friday</td>\n",
       "      <td>8</td>\n",
       "    </tr>\n",
       "    <tr>\n",
       "      <th>1247516</th>\n",
       "      <td>2</td>\n",
       "      <td>2022-04-11 17:35:06</td>\n",
       "      <td>2022-04-11 17:57:15</td>\n",
       "      <td>1.0</td>\n",
       "      <td>3.31</td>\n",
       "      <td>1.0</td>\n",
       "      <td>N</td>\n",
       "      <td>234</td>\n",
       "      <td>141</td>\n",
       "      <td>1</td>\n",
       "      <td>...</td>\n",
       "      <td>4.06</td>\n",
       "      <td>0.0</td>\n",
       "      <td>0.3</td>\n",
       "      <td>24.36</td>\n",
       "      <td>2.5</td>\n",
       "      <td>0.0</td>\n",
       "      <td>Monday</td>\n",
       "      <td>17</td>\n",
       "      <td>Monday</td>\n",
       "      <td>17</td>\n",
       "    </tr>\n",
       "    <tr>\n",
       "      <th>554511</th>\n",
       "      <td>2</td>\n",
       "      <td>2022-04-05 19:50:25</td>\n",
       "      <td>2022-04-05 19:54:40</td>\n",
       "      <td>1.0</td>\n",
       "      <td>0.62</td>\n",
       "      <td>1.0</td>\n",
       "      <td>N</td>\n",
       "      <td>161</td>\n",
       "      <td>170</td>\n",
       "      <td>2</td>\n",
       "      <td>...</td>\n",
       "      <td>0.00</td>\n",
       "      <td>0.0</td>\n",
       "      <td>0.3</td>\n",
       "      <td>8.80</td>\n",
       "      <td>2.5</td>\n",
       "      <td>0.0</td>\n",
       "      <td>Tuesday</td>\n",
       "      <td>19</td>\n",
       "      <td>Tuesday</td>\n",
       "      <td>19</td>\n",
       "    </tr>\n",
       "  </tbody>\n",
       "</table>\n",
       "<p>5 rows × 23 columns</p>\n",
       "</div>"
      ],
      "text/plain": [
       "         VendorID tpep_pickup_datetime tpep_dropoff_datetime  passenger_count  \\\n",
       "2617782         2  2022-04-23 16:38:04   2022-04-23 16:55:47              1.0   \n",
       "3419462         1  2022-04-30 15:19:30   2022-04-30 15:34:07              3.0   \n",
       "1654815         2  2022-04-15 08:34:48   2022-04-15 08:44:52              1.0   \n",
       "1247516         2  2022-04-11 17:35:06   2022-04-11 17:57:15              1.0   \n",
       "554511          2  2022-04-05 19:50:25   2022-04-05 19:54:40              1.0   \n",
       "\n",
       "         trip_distance  RatecodeID store_and_fwd_flag  PULocationID  \\\n",
       "2617782           1.70         1.0                  N           161   \n",
       "3419462           2.20         1.0                  N           142   \n",
       "1654815           1.68         1.0                  N           162   \n",
       "1247516           3.31         1.0                  N           234   \n",
       "554511            0.62         1.0                  N           161   \n",
       "\n",
       "         DOLocationID  payment_type  ...  tip_amount  tolls_amount  \\\n",
       "2617782           234             1  ...        3.06           0.0   \n",
       "3419462            24             1  ...        2.96           0.0   \n",
       "1654815            50             1  ...        2.46           0.0   \n",
       "1247516           141             1  ...        4.06           0.0   \n",
       "554511            170             2  ...        0.00           0.0   \n",
       "\n",
       "         improvement_surcharge  total_amount  congestion_surcharge  \\\n",
       "2617782                    0.3         18.36                   2.5   \n",
       "3419462                    0.3         17.76                   2.5   \n",
       "1654815                    0.3         14.76                   2.5   \n",
       "1247516                    0.3         24.36                   2.5   \n",
       "554511                     0.3          8.80                   2.5   \n",
       "\n",
       "         airport_fee  pickup_dayofweek  pickup_hour  dropoff_dayofweek  \\\n",
       "2617782          0.0          Saturday           16           Saturday   \n",
       "3419462          0.0          Saturday           15           Saturday   \n",
       "1654815          0.0            Friday            8             Friday   \n",
       "1247516          0.0            Monday           17             Monday   \n",
       "554511           0.0           Tuesday           19            Tuesday   \n",
       "\n",
       "        dropoff_hour  \n",
       "2617782           16  \n",
       "3419462           15  \n",
       "1654815            8  \n",
       "1247516           17  \n",
       "554511            19  \n",
       "\n",
       "[5 rows x 23 columns]"
      ]
     },
     "execution_count": 16,
     "metadata": {},
     "output_type": "execute_result"
    }
   ],
   "source": [
    "df.head()"
   ]
  },
  {
   "cell_type": "code",
   "execution_count": 17,
   "id": "d1640837-a979-4aa9-a9d7-3ada19d4b481",
   "metadata": {},
   "outputs": [],
   "source": [
    "df = df.reset_index(drop=True)"
   ]
  },
  {
   "cell_type": "code",
   "execution_count": 18,
   "id": "cd722e06-3df2-4408-a655-a398f853f068",
   "metadata": {},
   "outputs": [
    {
     "data": {
      "text/plain": [
       "array(['Saturday', 'Friday', 'Monday', 'Tuesday', 'Sunday', 'Thursday',\n",
       "       'Wednesday'], dtype=object)"
      ]
     },
     "execution_count": 18,
     "metadata": {},
     "output_type": "execute_result"
    }
   ],
   "source": [
    "df['pickup_dayofweek'].unique()"
   ]
  },
  {
   "cell_type": "markdown",
   "id": "042e9bab-0777-4893-a1d7-8b99efbe77ac",
   "metadata": {},
   "source": [
    "## Drop ID columns"
   ]
  },
  {
   "cell_type": "code",
   "execution_count": 19,
   "id": "2f15444a-ebbe-4c95-a317-947ede79875f",
   "metadata": {},
   "outputs": [
    {
     "data": {
      "text/plain": [
       "Index(['VendorID', 'tpep_pickup_datetime', 'tpep_dropoff_datetime',\n",
       "       'passenger_count', 'trip_distance', 'RatecodeID', 'store_and_fwd_flag',\n",
       "       'PULocationID', 'DOLocationID', 'payment_type', 'fare_amount', 'extra',\n",
       "       'mta_tax', 'tip_amount', 'tolls_amount', 'improvement_surcharge',\n",
       "       'total_amount', 'congestion_surcharge', 'airport_fee',\n",
       "       'pickup_dayofweek', 'pickup_hour', 'dropoff_dayofweek', 'dropoff_hour'],\n",
       "      dtype='object')"
      ]
     },
     "execution_count": 19,
     "metadata": {},
     "output_type": "execute_result"
    }
   ],
   "source": [
    "df.columns"
   ]
  },
  {
   "cell_type": "code",
   "execution_count": 20,
   "id": "a6fca9ac-e0b3-4d28-8d90-18e6effc7cda",
   "metadata": {},
   "outputs": [],
   "source": [
    "df = df[['tpep_pickup_datetime', 'tpep_dropoff_datetime',\n",
    "       'passenger_count', 'trip_distance', 'store_and_fwd_flag',\n",
    "       'payment_type', 'fare_amount', 'extra',\n",
    "       'mta_tax', 'tip_amount', 'tolls_amount', 'improvement_surcharge',\n",
    "       'total_amount', 'congestion_surcharge', 'airport_fee',\n",
    "       'pickup_dayofweek', 'pickup_hour', 'dropoff_dayofweek', 'dropoff_hour']]"
   ]
  },
  {
   "cell_type": "code",
   "execution_count": 21,
   "id": "4af5ef44-5ba2-4751-b026-bed37b7c75f2",
   "metadata": {},
   "outputs": [
    {
     "data": {
      "text/plain": [
       "(5000, 19)"
      ]
     },
     "execution_count": 21,
     "metadata": {},
     "output_type": "execute_result"
    }
   ],
   "source": [
    "df.shape"
   ]
  },
  {
   "cell_type": "markdown",
   "id": "a151caac-b130-4137-a956-11d05984f9e9",
   "metadata": {},
   "source": [
    "# Data Visualization"
   ]
  },
  {
   "cell_type": "code",
   "execution_count": 22,
   "id": "909446be-433c-4086-b95d-7f3b4e01ab99",
   "metadata": {},
   "outputs": [],
   "source": [
    "# !jupyter labextension install @jupyter-widgets/jupyterlab-manager"
   ]
  },
  {
   "cell_type": "markdown",
   "id": "90988374-5519-4d9e-8910-c5176a166d57",
   "metadata": {},
   "source": [
    "## 1. Plot trip amount by distance"
   ]
  },
  {
   "cell_type": "code",
   "execution_count": 23,
   "id": "1e6f9266-5940-4a8e-a32a-43da8108f917",
   "metadata": {},
   "outputs": [
    {
     "data": {
      "text/html": [
       "\n",
       "  <div id=\"58aea85c-a5ab-46f7-aedd-38e9c812ab77\" data-root-id=\"p1005\" style=\"display: contents;\"></div>\n"
      ]
     },
     "metadata": {},
     "output_type": "display_data"
    },
    {
     "data": {
      "application/javascript": [
       "(function(root) {\n",
       "  function embed_document(root) {\n",
       "  const docs_json = {\"d2e709e2-3b45-4d1a-ae2f-a78d76e8f572\":{\"version\":\"3.1.0\",\"title\":\"Bokeh Application\",\"defs\":[],\"roots\":[{\"type\":\"object\",\"name\":\"Figure\",\"id\":\"p1005\",\"attributes\":{\"height\":400,\"x_range\":{\"type\":\"object\",\"name\":\"DataRange1d\",\"id\":\"p1007\"},\"y_range\":{\"type\":\"object\",\"name\":\"DataRange1d\",\"id\":\"p1006\"},\"x_scale\":{\"type\":\"object\",\"name\":\"LinearScale\",\"id\":\"p1019\"},\"y_scale\":{\"type\":\"object\",\"name\":\"LinearScale\",\"id\":\"p1021\"},\"title\":{\"type\":\"object\",\"name\":\"Title\",\"id\":\"p1008\",\"attributes\":{\"text\":\"Trip Distance vs. Fare Amount\"}},\"renderers\":[{\"type\":\"object\",\"name\":\"GlyphRenderer\",\"id\":\"p1058\",\"attributes\":{\"data_source\":{\"type\":\"object\",\"name\":\"ColumnDataSource\",\"id\":\"p1052\",\"attributes\":{\"selected\":{\"type\":\"object\",\"name\":\"Selection\",\"id\":\"p1054\",\"attributes\":{\"indices\":[],\"line_indices\":[]}},\"selection_policy\":{\"type\":\"object\",\"name\":\"UnionRenderers\",\"id\":\"p1053\"},\"data\":{\"type\":\"map\",\"entries\":[[\"x\",{\"type\":\"ndarray\",\"array\":{\"type\":\"bytes\",\"data\":\"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\"},\"shape\":[5000],\"dtype\":\"float64\",\"order\":\"little\"}],[\"y\",{\"type\":\"ndarray\",\"array\":{\"type\":\"bytes\",\"data\":\"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\"},\"shape\":[5000],\"dtype\":\"float64\",\"order\":\"little\"}]]}}},\"view\":{\"type\":\"object\",\"name\":\"CDSView\",\"id\":\"p1059\",\"attributes\":{\"filter\":{\"type\":\"object\",\"name\":\"AllIndices\",\"id\":\"p1060\"}}},\"glyph\":{\"type\":\"object\",\"name\":\"Circle\",\"id\":\"p1055\",\"attributes\":{\"x\":{\"type\":\"field\",\"field\":\"x\"},\"y\":{\"type\":\"field\",\"field\":\"y\"},\"size\":{\"type\":\"value\",\"value\":2},\"line_color\":{\"type\":\"value\",\"value\":\"navy\"},\"fill_color\":{\"type\":\"value\",\"value\":\"navy\"},\"hatch_color\":{\"type\":\"value\",\"value\":\"navy\"}}},\"nonselection_glyph\":{\"type\":\"object\",\"name\":\"Circle\",\"id\":\"p1056\",\"attributes\":{\"x\":{\"type\":\"field\",\"field\":\"x\"},\"y\":{\"type\":\"field\",\"field\":\"y\"},\"size\":{\"type\":\"value\",\"value\":2},\"line_color\":{\"type\":\"value\",\"value\":\"navy\"},\"line_alpha\":{\"type\":\"value\",\"value\":0.1},\"fill_color\":{\"type\":\"value\",\"value\":\"navy\"},\"fill_alpha\":{\"type\":\"value\",\"value\":0.1},\"hatch_color\":{\"type\":\"value\",\"value\":\"navy\"},\"hatch_alpha\":{\"type\":\"value\",\"value\":0.1}}},\"muted_glyph\":{\"type\":\"object\",\"name\":\"Circle\",\"id\":\"p1057\",\"attributes\":{\"x\":{\"type\":\"field\",\"field\":\"x\"},\"y\":{\"type\":\"field\",\"field\":\"y\"},\"size\":{\"type\":\"value\",\"value\":2},\"line_color\":{\"type\":\"value\",\"value\":\"navy\"},\"line_alpha\":{\"type\":\"value\",\"value\":0.2},\"fill_color\":{\"type\":\"value\",\"value\":\"navy\"},\"fill_alpha\":{\"type\":\"value\",\"value\":0.2},\"hatch_color\":{\"type\":\"value\",\"value\":\"navy\"},\"hatch_alpha\":{\"type\":\"value\",\"value\":0.2}}}}}],\"toolbar\":{\"type\":\"object\",\"name\":\"Toolbar\",\"id\":\"p1013\",\"attributes\":{\"tools\":[{\"type\":\"object\",\"name\":\"PanTool\",\"id\":\"p1037\"},{\"type\":\"object\",\"name\":\"WheelZoomTool\",\"id\":\"p1038\"},{\"type\":\"object\",\"name\":\"BoxZoomTool\",\"id\":\"p1039\",\"attributes\":{\"overlay\":{\"type\":\"object\",\"name\":\"BoxAnnotation\",\"id\":\"p1040\",\"attributes\":{\"syncable\":false,\"level\":\"overlay\",\"visible\":false,\"left_units\":\"canvas\",\"right_units\":\"canvas\",\"bottom_units\":\"canvas\",\"top_units\":\"canvas\",\"line_color\":\"black\",\"line_alpha\":1.0,\"line_width\":2,\"line_dash\":[4,4],\"fill_color\":\"lightgrey\",\"fill_alpha\":0.5}}}},{\"type\":\"object\",\"name\":\"SaveTool\",\"id\":\"p1041\"},{\"type\":\"object\",\"name\":\"ResetTool\",\"id\":\"p1042\"},{\"type\":\"object\",\"name\":\"HelpTool\",\"id\":\"p1043\"}]}},\"left\":[{\"type\":\"object\",\"name\":\"LinearAxis\",\"id\":\"p1030\",\"attributes\":{\"ticker\":{\"type\":\"object\",\"name\":\"BasicTicker\",\"id\":\"p1031\",\"attributes\":{\"mantissas\":[1,2,5]}},\"formatter\":{\"type\":\"object\",\"name\":\"BasicTickFormatter\",\"id\":\"p1032\"},\"axis_label\":\"Fare Amount ($)\",\"major_label_policy\":{\"type\":\"object\",\"name\":\"AllLabels\",\"id\":\"p1033\"}}}],\"below\":[{\"type\":\"object\",\"name\":\"LinearAxis\",\"id\":\"p1023\",\"attributes\":{\"ticker\":{\"type\":\"object\",\"name\":\"BasicTicker\",\"id\":\"p1024\",\"attributes\":{\"mantissas\":[1,2,5]}},\"formatter\":{\"type\":\"object\",\"name\":\"BasicTickFormatter\",\"id\":\"p1025\"},\"axis_label\":\"Trip Distance (miles)\",\"major_label_policy\":{\"type\":\"object\",\"name\":\"AllLabels\",\"id\":\"p1026\"}}}],\"center\":[{\"type\":\"object\",\"name\":\"Grid\",\"id\":\"p1029\",\"attributes\":{\"axis\":{\"id\":\"p1023\"}}},{\"type\":\"object\",\"name\":\"Grid\",\"id\":\"p1036\",\"attributes\":{\"dimension\":1,\"axis\":{\"id\":\"p1030\"}}}]}}],\"callbacks\":{\"type\":\"map\"}}};\n",
       "  const render_items = [{\"docid\":\"d2e709e2-3b45-4d1a-ae2f-a78d76e8f572\",\"roots\":{\"p1005\":\"58aea85c-a5ab-46f7-aedd-38e9c812ab77\"},\"root_ids\":[\"p1005\"]}];\n",
       "  root.Bokeh.embed.embed_items_notebook(docs_json, render_items);\n",
       "  }\n",
       "  if (root.Bokeh !== undefined) {\n",
       "    embed_document(root);\n",
       "  } else {\n",
       "    let attempts = 0;\n",
       "    const timer = setInterval(function(root) {\n",
       "      if (root.Bokeh !== undefined) {\n",
       "        clearInterval(timer);\n",
       "        embed_document(root);\n",
       "      } else {\n",
       "        attempts++;\n",
       "        if (attempts > 100) {\n",
       "          clearInterval(timer);\n",
       "          console.log(\"Bokeh: ERROR: Unable to run BokehJS code because BokehJS library is missing\");\n",
       "        }\n",
       "      }\n",
       "    }, 10, root)\n",
       "  }\n",
       "})(window);"
      ],
      "application/vnd.bokehjs_exec.v0+json": ""
     },
     "metadata": {
      "application/vnd.bokehjs_exec.v0+json": {
       "id": "p1005"
      }
     },
     "output_type": "display_data"
    },
    {
     "data": {
      "text/plain": [
       "'C:\\\\Users\\\\Chizzy\\\\Documents\\\\Notebooks\\\\Bokeh\\\\img\\\\fig1.png'"
      ]
     },
     "execution_count": 23,
     "metadata": {},
     "output_type": "execute_result"
    }
   ],
   "source": [
    "source = ColumnDataSource(df)\n",
    "p = figure(title=\"Trip Distance vs. Fare Amount\", x_axis_label=\"Trip Distance (miles)\", y_axis_label=\"Fare Amount ($)\", height=400)\n",
    "\n",
    "# create a scatter plot of trip distance vs. fare amount\n",
    "p.circle(df['trip_distance'], df['fare_amount'], size=2, color='navy')\n",
    "show(p)\n",
    "\n",
    "export_png(p, filename=\"img/fig1.png\")"
   ]
  },
  {
   "cell_type": "markdown",
   "id": "ebeab970-a03a-45a5-b61d-e53c33eff231",
   "metadata": {},
   "source": [
    "## 2. Plot hourly trip distance"
   ]
  },
  {
   "cell_type": "code",
   "execution_count": 24,
   "id": "fdcfa0bc-3138-4f36-bb2d-e231d73251f6",
   "metadata": {},
   "outputs": [
    {
     "data": {
      "text/html": [
       "\n",
       "  <div id=\"0b9d96d5-4d25-4c88-b698-6487f9203b66\" data-root-id=\"p1225\" style=\"display: contents;\"></div>\n"
      ]
     },
     "metadata": {},
     "output_type": "display_data"
    },
    {
     "data": {
      "application/javascript": [
       "(function(root) {\n",
       "  function embed_document(root) {\n",
       "  const docs_json = {\"a3dbf054-9828-435a-a9cb-dc8f29f68012\":{\"version\":\"3.1.0\",\"title\":\"Bokeh Application\",\"defs\":[],\"roots\":[{\"type\":\"object\",\"name\":\"Figure\",\"id\":\"p1225\",\"attributes\":{\"height\":400,\"x_range\":{\"type\":\"object\",\"name\":\"DataRange1d\",\"id\":\"p1227\"},\"y_range\":{\"type\":\"object\",\"name\":\"DataRange1d\",\"id\":\"p1226\"},\"x_scale\":{\"type\":\"object\",\"name\":\"LinearScale\",\"id\":\"p1239\"},\"y_scale\":{\"type\":\"object\",\"name\":\"LinearScale\",\"id\":\"p1241\"},\"title\":{\"type\":\"object\",\"name\":\"Title\",\"id\":\"p1228\",\"attributes\":{\"text\":\"Total Trip Distance by Pickup Hour\"}},\"renderers\":[{\"type\":\"object\",\"name\":\"GlyphRenderer\",\"id\":\"p1278\",\"attributes\":{\"data_source\":{\"type\":\"object\",\"name\":\"ColumnDataSource\",\"id\":\"p1222\",\"attributes\":{\"selected\":{\"type\":\"object\",\"name\":\"Selection\",\"id\":\"p1224\",\"attributes\":{\"indices\":[],\"line_indices\":[]}},\"selection_policy\":{\"type\":\"object\",\"name\":\"UnionRenderers\",\"id\":\"p1223\"},\"data\":{\"type\":\"map\",\"entries\":[[\"index\",{\"type\":\"ndarray\",\"array\":{\"type\":\"bytes\",\"data\":\"AAAAAAEAAAACAAAAAwAAAAQAAAAFAAAABgAAAAcAAAAIAAAACQAAAAoAAAALAAAADAAAAA0AAAAOAAAADwAAABAAAAARAAAAEgAAABMAAAAUAAAAFQAAABYAAAAXAAAA\"},\"shape\":[24],\"dtype\":\"int32\",\"order\":\"little\"}],[\"pickup_hour\",{\"type\":\"ndarray\",\"array\":{\"type\":\"bytes\",\"data\":\"AAAAAAEAAAACAAAAAwAAAAQAAAAFAAAABgAAAAcAAAAIAAAACQAAAAoAAAALAAAADAAAAA0AAAAOAAAADwAAABAAAAARAAAAEgAAABMAAAAUAAAAFQAAABYAAAAXAAAA\"},\"shape\":[24],\"dtype\":\"int32\",\"order\":\"little\"}],[\"trip_distance\",{\"type\":\"ndarray\",\"array\":{\"type\":\"bytes\",\"data\":\"MzMzMzNRgkBSuB6F67FvQOxRuB6Fq2lApHA9CtdTWECF61G4Hi1gQBSuR+F69G1AAAAAAABIdUCamZmZmUl4QClcj8L1YoZA4XoUrkdziUAfhetRuN6FQJqZmZmZXY1ApHA9CtdPikD2KFyPwr+PQBSuR+F6T5BAexSuR+GNkUC4HoXrUTuQQFK4HoXrEZFAAAAAAACyjkAAAAAAAHCOQEjhehSuu45A16NwPQrZjEDXo3A9CtiSQM3MzMzMIodA\"},\"shape\":[24],\"dtype\":\"float64\",\"order\":\"little\"}]]}}},\"view\":{\"type\":\"object\",\"name\":\"CDSView\",\"id\":\"p1279\",\"attributes\":{\"filter\":{\"type\":\"object\",\"name\":\"AllIndices\",\"id\":\"p1280\"}}},\"glyph\":{\"type\":\"object\",\"name\":\"VBar\",\"id\":\"p1275\",\"attributes\":{\"x\":{\"type\":\"field\",\"field\":\"pickup_hour\"},\"width\":{\"type\":\"value\",\"value\":0.8},\"top\":{\"type\":\"field\",\"field\":\"trip_distance\"},\"line_color\":{\"type\":\"value\",\"value\":\"#1f77b4\"},\"fill_color\":{\"type\":\"value\",\"value\":\"#1f77b4\"},\"hatch_color\":{\"type\":\"value\",\"value\":\"#1f77b4\"}}},\"nonselection_glyph\":{\"type\":\"object\",\"name\":\"VBar\",\"id\":\"p1276\",\"attributes\":{\"x\":{\"type\":\"field\",\"field\":\"pickup_hour\"},\"width\":{\"type\":\"value\",\"value\":0.8},\"top\":{\"type\":\"field\",\"field\":\"trip_distance\"},\"line_color\":{\"type\":\"value\",\"value\":\"#1f77b4\"},\"line_alpha\":{\"type\":\"value\",\"value\":0.1},\"fill_color\":{\"type\":\"value\",\"value\":\"#1f77b4\"},\"fill_alpha\":{\"type\":\"value\",\"value\":0.1},\"hatch_color\":{\"type\":\"value\",\"value\":\"#1f77b4\"},\"hatch_alpha\":{\"type\":\"value\",\"value\":0.1}}},\"muted_glyph\":{\"type\":\"object\",\"name\":\"VBar\",\"id\":\"p1277\",\"attributes\":{\"x\":{\"type\":\"field\",\"field\":\"pickup_hour\"},\"width\":{\"type\":\"value\",\"value\":0.8},\"top\":{\"type\":\"field\",\"field\":\"trip_distance\"},\"line_color\":{\"type\":\"value\",\"value\":\"#1f77b4\"},\"line_alpha\":{\"type\":\"value\",\"value\":0.2},\"fill_color\":{\"type\":\"value\",\"value\":\"#1f77b4\"},\"fill_alpha\":{\"type\":\"value\",\"value\":0.2},\"hatch_color\":{\"type\":\"value\",\"value\":\"#1f77b4\"},\"hatch_alpha\":{\"type\":\"value\",\"value\":0.2}}}}}],\"toolbar\":{\"type\":\"object\",\"name\":\"Toolbar\",\"id\":\"p1233\",\"attributes\":{\"tools\":[{\"type\":\"object\",\"name\":\"PanTool\",\"id\":\"p1257\"},{\"type\":\"object\",\"name\":\"WheelZoomTool\",\"id\":\"p1258\"},{\"type\":\"object\",\"name\":\"BoxZoomTool\",\"id\":\"p1259\",\"attributes\":{\"overlay\":{\"type\":\"object\",\"name\":\"BoxAnnotation\",\"id\":\"p1260\",\"attributes\":{\"syncable\":false,\"level\":\"overlay\",\"visible\":false,\"left_units\":\"canvas\",\"right_units\":\"canvas\",\"bottom_units\":\"canvas\",\"top_units\":\"canvas\",\"line_color\":\"black\",\"line_alpha\":1.0,\"line_width\":2,\"line_dash\":[4,4],\"fill_color\":\"lightgrey\",\"fill_alpha\":0.5}}}},{\"type\":\"object\",\"name\":\"SaveTool\",\"id\":\"p1261\"},{\"type\":\"object\",\"name\":\"ResetTool\",\"id\":\"p1262\"},{\"type\":\"object\",\"name\":\"HelpTool\",\"id\":\"p1263\"}]}},\"left\":[{\"type\":\"object\",\"name\":\"LinearAxis\",\"id\":\"p1250\",\"attributes\":{\"ticker\":{\"type\":\"object\",\"name\":\"BasicTicker\",\"id\":\"p1251\",\"attributes\":{\"mantissas\":[1,2,5]}},\"formatter\":{\"type\":\"object\",\"name\":\"BasicTickFormatter\",\"id\":\"p1252\"},\"axis_label\":\"Total Trip Distance\",\"major_label_policy\":{\"type\":\"object\",\"name\":\"AllLabels\",\"id\":\"p1253\"}}}],\"below\":[{\"type\":\"object\",\"name\":\"LinearAxis\",\"id\":\"p1243\",\"attributes\":{\"ticker\":{\"type\":\"object\",\"name\":\"BasicTicker\",\"id\":\"p1244\",\"attributes\":{\"mantissas\":[1,2,5]}},\"formatter\":{\"type\":\"object\",\"name\":\"BasicTickFormatter\",\"id\":\"p1245\"},\"axis_label\":\"Pickup Hour\",\"major_label_policy\":{\"type\":\"object\",\"name\":\"AllLabels\",\"id\":\"p1246\"}}}],\"center\":[{\"type\":\"object\",\"name\":\"Grid\",\"id\":\"p1249\",\"attributes\":{\"axis\":{\"id\":\"p1243\"}}},{\"type\":\"object\",\"name\":\"Grid\",\"id\":\"p1256\",\"attributes\":{\"dimension\":1,\"axis\":{\"id\":\"p1250\"}}}]}}],\"callbacks\":{\"type\":\"map\"}}};\n",
       "  const render_items = [{\"docid\":\"a3dbf054-9828-435a-a9cb-dc8f29f68012\",\"roots\":{\"p1225\":\"0b9d96d5-4d25-4c88-b698-6487f9203b66\"},\"root_ids\":[\"p1225\"]}];\n",
       "  root.Bokeh.embed.embed_items_notebook(docs_json, render_items);\n",
       "  }\n",
       "  if (root.Bokeh !== undefined) {\n",
       "    embed_document(root);\n",
       "  } else {\n",
       "    let attempts = 0;\n",
       "    const timer = setInterval(function(root) {\n",
       "      if (root.Bokeh !== undefined) {\n",
       "        clearInterval(timer);\n",
       "        embed_document(root);\n",
       "      } else {\n",
       "        attempts++;\n",
       "        if (attempts > 100) {\n",
       "          clearInterval(timer);\n",
       "          console.log(\"Bokeh: ERROR: Unable to run BokehJS code because BokehJS library is missing\");\n",
       "        }\n",
       "      }\n",
       "    }, 10, root)\n",
       "  }\n",
       "})(window);"
      ],
      "application/vnd.bokehjs_exec.v0+json": ""
     },
     "metadata": {
      "application/vnd.bokehjs_exec.v0+json": {
       "id": "p1225"
      }
     },
     "output_type": "display_data"
    },
    {
     "data": {
      "text/plain": [
       "'C:\\\\Users\\\\Chizzy\\\\Documents\\\\Notebooks\\\\Bokeh\\\\img\\\\fig2.png'"
      ]
     },
     "execution_count": 24,
     "metadata": {},
     "output_type": "execute_result"
    }
   ],
   "source": [
    "# group the data by pickup hour and calculate total trip distance for each hour\n",
    "hourly_distance = df.groupby(df.pickup_hour)['trip_distance'].sum().reset_index()\n",
    "\n",
    "# create a ColumnDataSource object to use as the data source for the plot\n",
    "source = ColumnDataSource(hourly_distance)\n",
    "\n",
    "# create a figure with a title and axis labels\n",
    "p = figure(title=\"Total Trip Distance by Pickup Hour\", x_axis_label=\"Pickup Hour\", \n",
    "           y_axis_label=\"Total Trip Distance\", height =400)\n",
    "\n",
    "# add a bar chart to the figure\n",
    "p.vbar(x='pickup_hour', top='trip_distance', source=source, width=0.8, color=Category20[20][0])\n",
    "\n",
    "# show the plot\n",
    "show(p)\n",
    "\n",
    "export_png(p, filename=\"img/fig2.png\")"
   ]
  },
  {
   "cell_type": "markdown",
   "id": "1abf0160-6515-4594-92bc-973eb1fc0ae1",
   "metadata": {},
   "source": [
    "## 3. Plot pickup hour by number of trips"
   ]
  },
  {
   "cell_type": "code",
   "execution_count": 25,
   "id": "77ab4c2f-f942-4fe0-840f-10c1a93c045f",
   "metadata": {},
   "outputs": [
    {
     "data": {
      "text/html": [
       "\n",
       "  <div id=\"1f03e626-6fe7-4900-aca2-d159acc4ca8c\" data-root-id=\"p1460\" style=\"display: contents;\"></div>\n"
      ]
     },
     "metadata": {},
     "output_type": "display_data"
    },
    {
     "data": {
      "application/javascript": [
       "(function(root) {\n",
       "  function embed_document(root) {\n",
       "  const docs_json = {\"3263aadf-60f4-40a4-b6fe-973a2617b67d\":{\"version\":\"3.1.0\",\"title\":\"Bokeh Application\",\"defs\":[],\"roots\":[{\"type\":\"object\",\"name\":\"Figure\",\"id\":\"p1460\",\"attributes\":{\"height\":400,\"x_range\":{\"type\":\"object\",\"name\":\"DataRange1d\",\"id\":\"p1462\"},\"y_range\":{\"type\":\"object\",\"name\":\"DataRange1d\",\"id\":\"p1461\"},\"x_scale\":{\"type\":\"object\",\"name\":\"LinearScale\",\"id\":\"p1474\"},\"y_scale\":{\"type\":\"object\",\"name\":\"LinearScale\",\"id\":\"p1476\"},\"title\":{\"type\":\"object\",\"name\":\"Title\",\"id\":\"p1463\",\"attributes\":{\"text\":\"Pickup hour vs. Number of trips\"}},\"renderers\":[{\"type\":\"object\",\"name\":\"GlyphRenderer\",\"id\":\"p1513\",\"attributes\":{\"data_source\":{\"type\":\"object\",\"name\":\"ColumnDataSource\",\"id\":\"p1457\",\"attributes\":{\"selected\":{\"type\":\"object\",\"name\":\"Selection\",\"id\":\"p1459\",\"attributes\":{\"indices\":[],\"line_indices\":[]}},\"selection_policy\":{\"type\":\"object\",\"name\":\"UnionRenderers\",\"id\":\"p1458\"},\"data\":{\"type\":\"map\",\"entries\":[[\"index\",{\"type\":\"ndarray\",\"array\":{\"type\":\"bytes\",\"data\":\"AAAAAAEAAAACAAAAAwAAAAQAAAAFAAAABgAAAAcAAAAIAAAACQAAAAoAAAALAAAADAAAAA0AAAAOAAAADwAAABAAAAARAAAAEgAAABMAAAAUAAAAFQAAABYAAAAXAAAA\"},\"shape\":[24],\"dtype\":\"int32\",\"order\":\"little\"}],[\"pickup_hour\",{\"type\":\"ndarray\",\"array\":{\"type\":\"bytes\",\"data\":\"AAAAAAEAAAACAAAAAwAAAAQAAAAFAAAABgAAAAcAAAAIAAAACQAAAAoAAAALAAAADAAAAA0AAAAOAAAADwAAABAAAAARAAAAEgAAABMAAAAUAAAAFQAAABYAAAAXAAAA\"},\"shape\":[24],\"dtype\":\"int32\",\"order\":\"little\"}],[\"num_trips\",{\"type\":\"ndarray\",\"array\":{\"type\":\"bytes\",\"data\":\"gAAAAE0AAABDAAAAIQAAABQAAAAjAAAATAAAAHEAAADgAAAA4wAAAP0AAAAKAQAAEgEAABUBAABFAQAAOgEAADMBAABLAQAASgEAACoBAAArAQAACAEAABABAAC+AAAA\"},\"shape\":[24],\"dtype\":\"int32\",\"order\":\"little\"}]]}}},\"view\":{\"type\":\"object\",\"name\":\"CDSView\",\"id\":\"p1514\",\"attributes\":{\"filter\":{\"type\":\"object\",\"name\":\"AllIndices\",\"id\":\"p1515\"}}},\"glyph\":{\"type\":\"object\",\"name\":\"Line\",\"id\":\"p1510\",\"attributes\":{\"x\":{\"type\":\"field\",\"field\":\"pickup_hour\"},\"y\":{\"type\":\"field\",\"field\":\"num_trips\"},\"line_color\":\"#1f77b4\"}},\"nonselection_glyph\":{\"type\":\"object\",\"name\":\"Line\",\"id\":\"p1511\",\"attributes\":{\"x\":{\"type\":\"field\",\"field\":\"pickup_hour\"},\"y\":{\"type\":\"field\",\"field\":\"num_trips\"},\"line_color\":\"#1f77b4\",\"line_alpha\":0.1}},\"muted_glyph\":{\"type\":\"object\",\"name\":\"Line\",\"id\":\"p1512\",\"attributes\":{\"x\":{\"type\":\"field\",\"field\":\"pickup_hour\"},\"y\":{\"type\":\"field\",\"field\":\"num_trips\"},\"line_color\":\"#1f77b4\",\"line_alpha\":0.2}}}}],\"toolbar\":{\"type\":\"object\",\"name\":\"Toolbar\",\"id\":\"p1468\",\"attributes\":{\"tools\":[{\"type\":\"object\",\"name\":\"PanTool\",\"id\":\"p1492\"},{\"type\":\"object\",\"name\":\"WheelZoomTool\",\"id\":\"p1493\"},{\"type\":\"object\",\"name\":\"BoxZoomTool\",\"id\":\"p1494\",\"attributes\":{\"overlay\":{\"type\":\"object\",\"name\":\"BoxAnnotation\",\"id\":\"p1495\",\"attributes\":{\"syncable\":false,\"level\":\"overlay\",\"visible\":false,\"left_units\":\"canvas\",\"right_units\":\"canvas\",\"bottom_units\":\"canvas\",\"top_units\":\"canvas\",\"line_color\":\"black\",\"line_alpha\":1.0,\"line_width\":2,\"line_dash\":[4,4],\"fill_color\":\"lightgrey\",\"fill_alpha\":0.5}}}},{\"type\":\"object\",\"name\":\"SaveTool\",\"id\":\"p1496\"},{\"type\":\"object\",\"name\":\"ResetTool\",\"id\":\"p1497\"},{\"type\":\"object\",\"name\":\"HelpTool\",\"id\":\"p1498\"}]}},\"left\":[{\"type\":\"object\",\"name\":\"LinearAxis\",\"id\":\"p1485\",\"attributes\":{\"ticker\":{\"type\":\"object\",\"name\":\"BasicTicker\",\"id\":\"p1486\",\"attributes\":{\"mantissas\":[1,2,5]}},\"formatter\":{\"type\":\"object\",\"name\":\"BasicTickFormatter\",\"id\":\"p1487\"},\"axis_label\":\"Number of trips\",\"major_label_policy\":{\"type\":\"object\",\"name\":\"AllLabels\",\"id\":\"p1488\"}}}],\"below\":[{\"type\":\"object\",\"name\":\"LinearAxis\",\"id\":\"p1478\",\"attributes\":{\"ticker\":{\"type\":\"object\",\"name\":\"BasicTicker\",\"id\":\"p1479\",\"attributes\":{\"mantissas\":[1,2,5]}},\"formatter\":{\"type\":\"object\",\"name\":\"BasicTickFormatter\",\"id\":\"p1480\"},\"axis_label\":\"Pickup hour\",\"major_label_policy\":{\"type\":\"object\",\"name\":\"AllLabels\",\"id\":\"p1481\"}}}],\"center\":[{\"type\":\"object\",\"name\":\"Grid\",\"id\":\"p1484\",\"attributes\":{\"axis\":{\"id\":\"p1478\"}}},{\"type\":\"object\",\"name\":\"Grid\",\"id\":\"p1491\",\"attributes\":{\"dimension\":1,\"axis\":{\"id\":\"p1485\"}}}]}}],\"callbacks\":{\"type\":\"map\"}}};\n",
       "  const render_items = [{\"docid\":\"3263aadf-60f4-40a4-b6fe-973a2617b67d\",\"roots\":{\"p1460\":\"1f03e626-6fe7-4900-aca2-d159acc4ca8c\"},\"root_ids\":[\"p1460\"]}];\n",
       "  root.Bokeh.embed.embed_items_notebook(docs_json, render_items);\n",
       "  }\n",
       "  if (root.Bokeh !== undefined) {\n",
       "    embed_document(root);\n",
       "  } else {\n",
       "    let attempts = 0;\n",
       "    const timer = setInterval(function(root) {\n",
       "      if (root.Bokeh !== undefined) {\n",
       "        clearInterval(timer);\n",
       "        embed_document(root);\n",
       "      } else {\n",
       "        attempts++;\n",
       "        if (attempts > 100) {\n",
       "          clearInterval(timer);\n",
       "          console.log(\"Bokeh: ERROR: Unable to run BokehJS code because BokehJS library is missing\");\n",
       "        }\n",
       "      }\n",
       "    }, 10, root)\n",
       "  }\n",
       "})(window);"
      ],
      "application/vnd.bokehjs_exec.v0+json": ""
     },
     "metadata": {
      "application/vnd.bokehjs_exec.v0+json": {
       "id": "p1460"
      }
     },
     "output_type": "display_data"
    },
    {
     "data": {
      "text/plain": [
       "'C:\\\\Users\\\\Chizzy\\\\Documents\\\\Notebooks\\\\Bokeh\\\\img\\\\fig3.png'"
      ]
     },
     "execution_count": 25,
     "metadata": {},
     "output_type": "execute_result"
    }
   ],
   "source": [
    "grouped = df.groupby('pickup_hour').size().reset_index(name='num_trips')\n",
    "source = ColumnDataSource(grouped)\n",
    "p = figure(title='Pickup hour vs. Number of trips', x_axis_label='Pickup hour', y_axis_label='Number of trips', height=400)\n",
    "p.line(x='pickup_hour', y='num_trips', source=source)\n",
    "show(p)\n",
    "\n",
    "export_png(p, filename=\"img/fig3.png\")"
   ]
  },
  {
   "cell_type": "markdown",
   "id": "3ae7fb74-0f97-496e-bc0c-afcf1b84bb32",
   "metadata": {},
   "source": [
    "## 4. Compute mean congestion_surcharge for each dropoff_dayofweek"
   ]
  },
  {
   "cell_type": "code",
   "execution_count": 26,
   "id": "121396eb-7222-48de-9fab-4de96622fcda",
   "metadata": {},
   "outputs": [
    {
     "data": {
      "text/html": [
       "\n",
       "  <div id=\"5cf55c95-a915-4a22-8189-8582b1d2b735\" data-root-id=\"p1714\" style=\"display: contents;\"></div>\n"
      ]
     },
     "metadata": {},
     "output_type": "display_data"
    },
    {
     "data": {
      "application/javascript": [
       "(function(root) {\n",
       "  function embed_document(root) {\n",
       "  const docs_json = {\"cefe77a9-6045-4b47-8881-7d565afd9fe8\":{\"version\":\"3.1.0\",\"title\":\"Bokeh Application\",\"defs\":[],\"roots\":[{\"type\":\"object\",\"name\":\"Figure\",\"id\":\"p1714\",\"attributes\":{\"height\":350,\"x_range\":{\"type\":\"object\",\"name\":\"FactorRange\",\"id\":\"p1724\",\"attributes\":{\"factors\":[\"Monday\",\"Tuesday\",\"Wednesday\",\"Thursday\",\"Friday\",\"Saturday\",\"Sunday\"]}},\"y_range\":{\"type\":\"object\",\"name\":\"DataRange1d\",\"id\":\"p1716\"},\"x_scale\":{\"type\":\"object\",\"name\":\"CategoricalScale\",\"id\":\"p1728\"},\"y_scale\":{\"type\":\"object\",\"name\":\"LinearScale\",\"id\":\"p1730\"},\"title\":{\"type\":\"object\",\"name\":\"Title\",\"id\":\"p1717\",\"attributes\":{\"text\":\"Average Congestion Surcharge by Dropoff Day of Week\"}},\"renderers\":[{\"type\":\"object\",\"name\":\"GlyphRenderer\",\"id\":\"p1767\",\"attributes\":{\"data_source\":{\"type\":\"object\",\"name\":\"ColumnDataSource\",\"id\":\"p1711\",\"attributes\":{\"selected\":{\"type\":\"object\",\"name\":\"Selection\",\"id\":\"p1713\",\"attributes\":{\"indices\":[],\"line_indices\":[]}},\"selection_policy\":{\"type\":\"object\",\"name\":\"UnionRenderers\",\"id\":\"p1712\"},\"data\":{\"type\":\"map\",\"entries\":[[\"dropoff_dayofweek\",{\"type\":\"ndarray\",\"array\":[\"Friday\",\"Monday\",\"Saturday\",\"Sunday\",\"Thursday\",\"Tuesday\",\"Wednesday\"],\"shape\":[7],\"dtype\":\"object\",\"order\":\"little\"}],[\"mean_congestion_surcharge\",{\"type\":\"ndarray\",\"array\":{\"type\":\"bytes\",\"data\":\"mXYO1iwxAkCTtqQtaUsCQNbwzuil+gFAAAAAAAAAAkBDf5KxqIYCQAAAAAAAqAJA/5oq7OX+AkA=\"},\"shape\":[7],\"dtype\":\"float64\",\"order\":\"little\"}]]}}},\"view\":{\"type\":\"object\",\"name\":\"CDSView\",\"id\":\"p1768\",\"attributes\":{\"filter\":{\"type\":\"object\",\"name\":\"AllIndices\",\"id\":\"p1769\"}}},\"glyph\":{\"type\":\"object\",\"name\":\"VBar\",\"id\":\"p1764\",\"attributes\":{\"x\":{\"type\":\"field\",\"field\":\"dropoff_dayofweek\"},\"width\":{\"type\":\"value\",\"value\":0.5},\"top\":{\"type\":\"field\",\"field\":\"mean_congestion_surcharge\"},\"line_color\":{\"type\":\"value\",\"value\":\"#1f77b4\"},\"fill_color\":{\"type\":\"field\",\"field\":\"dropoff_dayofweek\",\"transform\":{\"type\":\"object\",\"name\":\"CategoricalColorMapper\",\"id\":\"p1760\",\"attributes\":{\"palette\":[\"#3288bd\",\"#99d594\",\"#e6f598\",\"#fee08b\",\"#fc8d59\",\"#d53e4f\"],\"factors\":{\"type\":\"ndarray\",\"array\":[\"Friday\",\"Monday\",\"Saturday\",\"Sunday\",\"Thursday\",\"Tuesday\",\"Wednesday\"],\"shape\":[7],\"dtype\":\"object\",\"order\":\"little\"}}}}}},\"nonselection_glyph\":{\"type\":\"object\",\"name\":\"VBar\",\"id\":\"p1765\",\"attributes\":{\"x\":{\"type\":\"field\",\"field\":\"dropoff_dayofweek\"},\"width\":{\"type\":\"value\",\"value\":0.5},\"top\":{\"type\":\"field\",\"field\":\"mean_congestion_surcharge\"},\"line_color\":{\"type\":\"value\",\"value\":\"#1f77b4\"},\"line_alpha\":{\"type\":\"value\",\"value\":0.1},\"fill_color\":{\"type\":\"field\",\"field\":\"dropoff_dayofweek\",\"transform\":{\"id\":\"p1760\"}},\"fill_alpha\":{\"type\":\"value\",\"value\":0.1},\"hatch_alpha\":{\"type\":\"value\",\"value\":0.1}}},\"muted_glyph\":{\"type\":\"object\",\"name\":\"VBar\",\"id\":\"p1766\",\"attributes\":{\"x\":{\"type\":\"field\",\"field\":\"dropoff_dayofweek\"},\"width\":{\"type\":\"value\",\"value\":0.5},\"top\":{\"type\":\"field\",\"field\":\"mean_congestion_surcharge\"},\"line_color\":{\"type\":\"value\",\"value\":\"#1f77b4\"},\"line_alpha\":{\"type\":\"value\",\"value\":0.2},\"fill_color\":{\"type\":\"field\",\"field\":\"dropoff_dayofweek\",\"transform\":{\"id\":\"p1760\"}},\"fill_alpha\":{\"type\":\"value\",\"value\":0.2},\"hatch_alpha\":{\"type\":\"value\",\"value\":0.2}}}}}],\"toolbar\":{\"type\":\"object\",\"name\":\"Toolbar\",\"id\":\"p1722\",\"attributes\":{\"tools\":[{\"type\":\"object\",\"name\":\"PanTool\",\"id\":\"p1745\"},{\"type\":\"object\",\"name\":\"WheelZoomTool\",\"id\":\"p1746\"},{\"type\":\"object\",\"name\":\"BoxZoomTool\",\"id\":\"p1747\",\"attributes\":{\"overlay\":{\"type\":\"object\",\"name\":\"BoxAnnotation\",\"id\":\"p1748\",\"attributes\":{\"syncable\":false,\"level\":\"overlay\",\"visible\":false,\"left_units\":\"canvas\",\"right_units\":\"canvas\",\"bottom_units\":\"canvas\",\"top_units\":\"canvas\",\"line_color\":\"black\",\"line_alpha\":1.0,\"line_width\":2,\"line_dash\":[4,4],\"fill_color\":\"lightgrey\",\"fill_alpha\":0.5}}}},{\"type\":\"object\",\"name\":\"SaveTool\",\"id\":\"p1749\"},{\"type\":\"object\",\"name\":\"ResetTool\",\"id\":\"p1750\"},{\"type\":\"object\",\"name\":\"HelpTool\",\"id\":\"p1751\"}]}},\"left\":[{\"type\":\"object\",\"name\":\"LinearAxis\",\"id\":\"p1738\",\"attributes\":{\"ticker\":{\"type\":\"object\",\"name\":\"BasicTicker\",\"id\":\"p1739\",\"attributes\":{\"mantissas\":[1,2,5]}},\"formatter\":{\"type\":\"object\",\"name\":\"BasicTickFormatter\",\"id\":\"p1740\"},\"axis_label\":\"Mean Congestion Surcharge\",\"major_label_policy\":{\"type\":\"object\",\"name\":\"AllLabels\",\"id\":\"p1741\"}}}],\"below\":[{\"type\":\"object\",\"name\":\"CategoricalAxis\",\"id\":\"p1732\",\"attributes\":{\"ticker\":{\"type\":\"object\",\"name\":\"CategoricalTicker\",\"id\":\"p1733\"},\"formatter\":{\"type\":\"object\",\"name\":\"CategoricalTickFormatter\",\"id\":\"p1734\"},\"axis_label\":\"Dropoff Day of Week\",\"major_label_policy\":{\"type\":\"object\",\"name\":\"AllLabels\",\"id\":\"p1735\"}}}],\"center\":[{\"type\":\"object\",\"name\":\"Grid\",\"id\":\"p1737\",\"attributes\":{\"axis\":{\"id\":\"p1732\"}}},{\"type\":\"object\",\"name\":\"Grid\",\"id\":\"p1744\",\"attributes\":{\"dimension\":1,\"axis\":{\"id\":\"p1738\"}}}]}}],\"callbacks\":{\"type\":\"map\"}}};\n",
       "  const render_items = [{\"docid\":\"cefe77a9-6045-4b47-8881-7d565afd9fe8\",\"roots\":{\"p1714\":\"5cf55c95-a915-4a22-8189-8582b1d2b735\"},\"root_ids\":[\"p1714\"]}];\n",
       "  root.Bokeh.embed.embed_items_notebook(docs_json, render_items);\n",
       "  }\n",
       "  if (root.Bokeh !== undefined) {\n",
       "    embed_document(root);\n",
       "  } else {\n",
       "    let attempts = 0;\n",
       "    const timer = setInterval(function(root) {\n",
       "      if (root.Bokeh !== undefined) {\n",
       "        clearInterval(timer);\n",
       "        embed_document(root);\n",
       "      } else {\n",
       "        attempts++;\n",
       "        if (attempts > 100) {\n",
       "          clearInterval(timer);\n",
       "          console.log(\"Bokeh: ERROR: Unable to run BokehJS code because BokehJS library is missing\");\n",
       "        }\n",
       "      }\n",
       "    }, 10, root)\n",
       "  }\n",
       "})(window);"
      ],
      "application/vnd.bokehjs_exec.v0+json": ""
     },
     "metadata": {
      "application/vnd.bokehjs_exec.v0+json": {
       "id": "p1714"
      }
     },
     "output_type": "display_data"
    },
    {
     "data": {
      "text/plain": [
       "'C:\\\\Users\\\\Chizzy\\\\Documents\\\\Notebooks\\\\Bokeh\\\\img\\\\fig4.png'"
      ]
     },
     "execution_count": 26,
     "metadata": {},
     "output_type": "execute_result"
    }
   ],
   "source": [
    "mean_congestion_surcharge = df.groupby('dropoff_dayofweek')['congestion_surcharge'].mean()\n",
    "\n",
    "# create a ColumnDataSource object\n",
    "source = ColumnDataSource(data=dict(\n",
    "    dropoff_dayofweek = mean_congestion_surcharge.index.values,\n",
    "    mean_congestion_surcharge = mean_congestion_surcharge.values\n",
    "))\n",
    "\n",
    "# create the figure\n",
    "p = figure(x_range=['Monday', 'Tuesday', 'Wednesday', 'Thursday', 'Friday', 'Saturday', 'Sunday'], height=350, title='Average Congestion Surcharge by Dropoff Day of Week')\n",
    "\n",
    "# create the bar chart\n",
    "p.vbar(x='dropoff_dayofweek', top='mean_congestion_surcharge', source=source, width=0.5,\n",
    "       fill_color=factor_cmap('dropoff_dayofweek', palette=Spectral6, factors=mean_congestion_surcharge.index.values))\n",
    "\n",
    "# set the axis labels\n",
    "p.xaxis.axis_label = 'Dropoff Day of Week'\n",
    "p.yaxis.axis_label = 'Mean Congestion Surcharge'\n",
    "\n",
    "# show the plot\n",
    "show(p)\n",
    "\n",
    "export_png(p, filename=\"img/fig4.png\")"
   ]
  },
  {
   "cell_type": "markdown",
   "id": "770e1ad5-df70-4281-aacf-61289239963b",
   "metadata": {},
   "source": [
    "## 5. Fare Amount vs Airport Fee"
   ]
  },
  {
   "cell_type": "code",
   "execution_count": 27,
   "id": "87bc0b57-9bae-4164-b29f-fbdec453258e",
   "metadata": {},
   "outputs": [
    {
     "data": {
      "text/html": [
       "\n",
       "  <div id=\"075e8c70-568c-4ee8-866f-af1882b4170e\" data-root-id=\"p1971\" style=\"display: contents;\"></div>\n"
      ]
     },
     "metadata": {},
     "output_type": "display_data"
    },
    {
     "data": {
      "application/javascript": [
       "(function(root) {\n",
       "  function embed_document(root) {\n",
       "  const docs_json = {\"4a415b5c-7d4f-4802-b94b-25bc6f2f3c61\":{\"version\":\"3.1.0\",\"title\":\"Bokeh Application\",\"defs\":[],\"roots\":[{\"type\":\"object\",\"name\":\"Figure\",\"id\":\"p1971\",\"attributes\":{\"height\":400,\"x_range\":{\"type\":\"object\",\"name\":\"DataRange1d\",\"id\":\"p1973\"},\"y_range\":{\"type\":\"object\",\"name\":\"DataRange1d\",\"id\":\"p1972\"},\"x_scale\":{\"type\":\"object\",\"name\":\"LinearScale\",\"id\":\"p1985\"},\"y_scale\":{\"type\":\"object\",\"name\":\"LinearScale\",\"id\":\"p1987\"},\"title\":{\"type\":\"object\",\"name\":\"Title\",\"id\":\"p1974\",\"attributes\":{\"text\":\"Fare Amout  vs. Airport Fee\"}},\"renderers\":[{\"type\":\"object\",\"name\":\"GlyphRenderer\",\"id\":\"p2024\",\"attributes\":{\"data_source\":{\"type\":\"object\",\"name\":\"ColumnDataSource\",\"id\":\"p1968\",\"attributes\":{\"selected\":{\"type\":\"object\",\"name\":\"Selection\",\"id\":\"p1970\",\"attributes\":{\"indices\":[],\"line_indices\":[]}},\"selection_policy\":{\"type\":\"object\",\"name\":\"UnionRenderers\",\"id\":\"p1969\"},\"data\":{\"type\":\"map\",\"entries\":[[\"index\",{\"type\":\"ndarray\",\"array\":{\"type\":\"bytes\",\"data\":\"AAAAAAEAAAACAAAAAwAAAAQAAAAFAAAABgAAAAcAAAAIAAAACQAAAAoAAAALAAAADAAAAA0AAAAOAAAADwAAABAAAAARAAAAEgAAABMAAAAUAAAAFQAAABYAAAAXAAAAGAAAABkAAAAaAAAAGwAAABwAAAAdAAAAHgAAAB8AAAAgAAAAIQAAACIAAAAjAAAAJAAAACUAAAAmAAAAJwAAACgAAAApAAAAKgAAACsAAAAsAAAALQAAAC4AAAAvAAAAMAAAADEAAAAyAAAAMwAAADQAAAA1AAAANgAAADcAAAA4AAAAOQAAADoAAAA7AAAAPAAAAD0AAAA+AAAAPwAAAEAAAABBAAAAQgAAAEMAAABEAAAARQAAAEYAAABHAAAASAAAAEkAAABKAAAASwAAAEwAAABNAAAATgAAAE8AAABQAAAAUQAAAFIAAABTAAAAVAAAAFUAAABWAAAAVwAAAFgAAABZAAAAWgAAAFsAAABcAAAAXQAAAF4AAABfAAAAYAAAAGEAAABiAAAAYwAAAGQAAABlAAAAZgAAAGcAAABoAAAAaQAAAGoAAABrAAAAbAAAAG0AAABuAAAAbwAAAHAAAABxAAAAcgAAAHMAAAB0AAAAdQAAAHYAAAB3AAAAeAAAAHkAAAB6AAAAewAAAHwAAAB9AAAAfgAAAH8AAACAAAAAgQAAAIIAAACDAAAAhAAAAIUAAACGAAAAhwAAAIgAAACJAAAAigAAAIsAAACMAAAAjQAAAI4AAACPAAAAkAAAAJEAAACSAAAAkwAAAJQAAACVAAAAlgAAAJcAAACYAAAAmQAAAJoAAACbAAAAnAAAAJ0AAACeAAAAnwAAAKAAAAChAAAAogAAAKMAAACkAAAApQAAAKYAAACnAAAAqAAAAKkAAACqAAAAqwAAAKwAAACtAAAArgAAAA==\"},\"shape\":[175],\"dtype\":\"int32\",\"order\":\"little\"}],[\"fare_amount\",{\"type\":\"ndarray\",\"array\":{\"type\":\"bytes\",\"data\":\"AAAAAAAASsAAAAAAAABDwAAAAAAAAELAAAAAAACAOsAAAAAAAIA5wAAAAAAAgDbAAAAAAAAAK8AAAAAAAAApwAAAAAAAACbAAAAAAAAAI8AAAAAAAAAgwAAAAAAAABjAAAAAAAAAFsAAAAAAAAAUwAAAAAAAABLAAAAAAAAAEMAAAAAAAAAMwAAAAAAAAAjAAAAAAAAABMAAAAAAAAAAAAAAAAAAAARAAAAAAAAACEAAAAAAAAAMQAAAAAAAABBAAAAAAAAAEkAAAAAAAAAUQAAAAAAAABZAAAAAAAAAGEAAAAAAAAAaQAAAAAAAABxAAAAAAAAAHkAAAAAAAAAgQAAAAAAAACFAAAAAAAAAIkAAAAAAAAAjQAAAAAAAACRAAAAAAAAAJUAAAAAAAAAmQJqZmZmZmSZAAAAAAAAAJ0AAAAAAAAAoQAAAAAAAAClAAAAAAAAAKkAAAAAAAAArQAAAAAAAACxAAAAAAAAALUAAAAAAAAAuQAAAAAAAAC9AAAAAAAAAMEAAAAAAAIAwQAAAAAAAADFAMzMzMzMzMUAAAAAAAIAxQAAAAAAAADJAMzMzMzMzMkAAAAAAAIAyQAAAAAAAADNAMzMzMzMzM0AAAAAAAIAzQAAAAAAAADRAAAAAAACANEAAAAAAAAA1QAAAAAAAgDVAAAAAAAAANkAzMzMzMzM2QAAAAAAAgDZAAAAAAAAAN0AAAAAAAIA3QAAAAAAAADhAAAAAAACAOEAAAAAAAAA5QAAAAAAAgDlAAAAAAAAAOkAAAAAAAIA6QAAAAAAAADtAAAAAAACAO0AAAAAAAAA8QAAAAAAAgDxAAAAAAAAAPUAzMzMzMzM9QAAAAAAAgD1AAAAAAAAAPkAAAAAAAIA+QAAAAAAAAD9AMzMzMzMzP0AAAAAAAIA/QAAAAAAAAEBAmpmZmZkZQEAAAAAAAEBAQAAAAAAAgEBAmpmZmZmZQEAAAAAAAMBAQAAAAAAAAEFAmpmZmZkZQUAAAAAAAEBBQAAAAAAAgEFAAAAAAADAQUAAAAAAAABCQJqZmZmZGUJAAAAAAABAQkAAAAAAAIBCQAAAAAAAwEJAAAAAAAAAQ0AAAAAAAEBDQAAAAAAAgENAAAAAAADAQ0AAAAAAAABEQAAAAAAAQERAAAAAAACARECamZmZmZlEQAAAAAAAwERAAAAAAAAARUAAAAAAAEBFQAAAAAAAgEVAAAAAAADARUAAAAAAAABGQAAAAAAAQEZAAAAAAACARkAAAAAAAMBGQAAAAAAAAEdAmpmZmZkZR0AAAAAAAEBHQJqZmZmZmUdAAAAAAADAR0AAAAAAAABIQJqZmZmZGUhAAAAAAACASECamZmZmZlIQAAAAAAAwEhAAAAAAAAASUAAAAAAAIBJQAAAAAAAwElAAAAAAAAASkAAAAAAAEBKQJqZmZmZmUpAAAAAAAAAS0AAAAAAAEBLQAAAAAAAAExAAAAAAAAATUCamZmZmRlNQAAAAAAAQE1AAAAAAACATUAAAAAAAABOQAAAAAAAgE5AmpmZmZmZTkAAAAAAAMBOQAAAAAAAAE9AAAAAAACAT0AAAAAAAEBQQAAAAAAAYFBAAAAAAADAUEDNzMzMzMxQQAAAAAAA4FBAAAAAAAAAUUAAAAAAACBRQAAAAAAAMFFAAAAAAABAUUAAAAAAAGBRQAAAAAAAgFFAAAAAAACgUUAAAAAAACBSQAAAAAAAwFJAAAAAAACAU0AAAAAAAABWQAAAAAAAAFdAAAAAAABAV0AAAAAAAABYQAAAAAAAgFlAAAAAAAAgXEAAAAAAAMBcQAAAAAAAIF1AAAAAAAAgYkAAAAAAAMBiQAAAAAAAkGRAAAAAAACYakA=\"},\"shape\":[175],\"dtype\":\"float64\",\"order\":\"little\"}],[\"airport_fee\",{\"type\":\"ndarray\",\"array\":{\"type\":\"bytes\",\"data\":\"AQAAAAEAAAACAAAAAQAAAAEAAAABAAAAAQAAAAEAAAABAAAAAgAAAAEAAAABAAAAAgAAAAIAAAABAAAAAQAAAAIAAAABAAAAAgAAAAEAAAAaAAAADAAAACgAAABSAAAAlgAAAK8AAADNAAAA5wAAANkAAADtAAAA2wAAANwAAADQAAAAtAAAALsAAACdAAAAmwAAAJgAAAABAAAAiAAAAHEAAABjAAAAaAAAAGUAAABZAAAAUwAAAEEAAAA+AAAAQwAAADcAAAA3AAAAAgAAADIAAAAoAAAAAQAAACgAAAAmAAAAAQAAACMAAAAdAAAAIQAAABwAAAAXAAAAGgAAAAEAAAAVAAAAGAAAABIAAAAXAAAACgAAABIAAAAUAAAADgAAABgAAAAQAAAACwAAAAoAAAAPAAAADwAAAAIAAAAOAAAADwAAAAgAAAALAAAAAQAAAA0AAAANAAAAAQAAAAwAAAAHAAAAAQAAAAUAAAAFAAAAAQAAAAQAAAAKAAAACAAAAAsAAAABAAAACAAAAAYAAAAFAAAACAAAAAYAAAABAAAAAwAAAAQAAAADAAAABQAAAAIAAAADAAAAAQAAAAMAAAACAAAAAgAAAAEAAAABAAAAAwAAAAMAAAADAAAAAQAAAAMAAAACAAAAAgAAAAEAAAABAAAAAgAAAAIAAAADAAAAAQAAAAUAAAABAAAAxwAAAAEAAAABAAAAAQAAAAYAAAABAAAAAQAAAAEAAAABAAAAAQAAAAMAAAABAAAAAgAAAAEAAAACAAAAAwAAAAIAAAACAAAABQAAAAEAAAABAAAABAAAAAIAAAABAAAAAgAAAAIAAAACAAAAAQAAAAEAAAABAAAAAQAAAAEAAAABAAAAAQAAAAEAAAABAAAAAQAAAAEAAAABAAAAAQAAAAEAAAABAAAAAQAAAA==\"},\"shape\":[175],\"dtype\":\"int32\",\"order\":\"little\"}]]}}},\"view\":{\"type\":\"object\",\"name\":\"CDSView\",\"id\":\"p2025\",\"attributes\":{\"filter\":{\"type\":\"object\",\"name\":\"AllIndices\",\"id\":\"p2026\"}}},\"glyph\":{\"type\":\"object\",\"name\":\"Line\",\"id\":\"p2021\",\"attributes\":{\"x\":{\"type\":\"field\",\"field\":\"fare_amount\"},\"y\":{\"type\":\"field\",\"field\":\"airport_fee\"},\"line_color\":\"#1f77b4\"}},\"nonselection_glyph\":{\"type\":\"object\",\"name\":\"Line\",\"id\":\"p2022\",\"attributes\":{\"x\":{\"type\":\"field\",\"field\":\"fare_amount\"},\"y\":{\"type\":\"field\",\"field\":\"airport_fee\"},\"line_color\":\"#1f77b4\",\"line_alpha\":0.1}},\"muted_glyph\":{\"type\":\"object\",\"name\":\"Line\",\"id\":\"p2023\",\"attributes\":{\"x\":{\"type\":\"field\",\"field\":\"fare_amount\"},\"y\":{\"type\":\"field\",\"field\":\"airport_fee\"},\"line_color\":\"#1f77b4\",\"line_alpha\":0.2}}}}],\"toolbar\":{\"type\":\"object\",\"name\":\"Toolbar\",\"id\":\"p1979\",\"attributes\":{\"tools\":[{\"type\":\"object\",\"name\":\"PanTool\",\"id\":\"p2003\"},{\"type\":\"object\",\"name\":\"WheelZoomTool\",\"id\":\"p2004\"},{\"type\":\"object\",\"name\":\"BoxZoomTool\",\"id\":\"p2005\",\"attributes\":{\"overlay\":{\"type\":\"object\",\"name\":\"BoxAnnotation\",\"id\":\"p2006\",\"attributes\":{\"syncable\":false,\"level\":\"overlay\",\"visible\":false,\"left_units\":\"canvas\",\"right_units\":\"canvas\",\"bottom_units\":\"canvas\",\"top_units\":\"canvas\",\"line_color\":\"black\",\"line_alpha\":1.0,\"line_width\":2,\"line_dash\":[4,4],\"fill_color\":\"lightgrey\",\"fill_alpha\":0.5}}}},{\"type\":\"object\",\"name\":\"SaveTool\",\"id\":\"p2007\"},{\"type\":\"object\",\"name\":\"ResetTool\",\"id\":\"p2008\"},{\"type\":\"object\",\"name\":\"HelpTool\",\"id\":\"p2009\"}]}},\"left\":[{\"type\":\"object\",\"name\":\"LinearAxis\",\"id\":\"p1996\",\"attributes\":{\"ticker\":{\"type\":\"object\",\"name\":\"BasicTicker\",\"id\":\"p1997\",\"attributes\":{\"mantissas\":[1,2,5]}},\"formatter\":{\"type\":\"object\",\"name\":\"BasicTickFormatter\",\"id\":\"p1998\"},\"axis_label\":\"Airport Fee\",\"major_label_policy\":{\"type\":\"object\",\"name\":\"AllLabels\",\"id\":\"p1999\"}}}],\"below\":[{\"type\":\"object\",\"name\":\"LinearAxis\",\"id\":\"p1989\",\"attributes\":{\"ticker\":{\"type\":\"object\",\"name\":\"BasicTicker\",\"id\":\"p1990\",\"attributes\":{\"mantissas\":[1,2,5]}},\"formatter\":{\"type\":\"object\",\"name\":\"BasicTickFormatter\",\"id\":\"p1991\"},\"axis_label\":\"Fare Amout\",\"major_label_policy\":{\"type\":\"object\",\"name\":\"AllLabels\",\"id\":\"p1992\"}}}],\"center\":[{\"type\":\"object\",\"name\":\"Grid\",\"id\":\"p1995\",\"attributes\":{\"axis\":{\"id\":\"p1989\"}}},{\"type\":\"object\",\"name\":\"Grid\",\"id\":\"p2002\",\"attributes\":{\"dimension\":1,\"axis\":{\"id\":\"p1996\"}}}]}}],\"callbacks\":{\"type\":\"map\"}}};\n",
       "  const render_items = [{\"docid\":\"4a415b5c-7d4f-4802-b94b-25bc6f2f3c61\",\"roots\":{\"p1971\":\"075e8c70-568c-4ee8-866f-af1882b4170e\"},\"root_ids\":[\"p1971\"]}];\n",
       "  root.Bokeh.embed.embed_items_notebook(docs_json, render_items);\n",
       "  }\n",
       "  if (root.Bokeh !== undefined) {\n",
       "    embed_document(root);\n",
       "  } else {\n",
       "    let attempts = 0;\n",
       "    const timer = setInterval(function(root) {\n",
       "      if (root.Bokeh !== undefined) {\n",
       "        clearInterval(timer);\n",
       "        embed_document(root);\n",
       "      } else {\n",
       "        attempts++;\n",
       "        if (attempts > 100) {\n",
       "          clearInterval(timer);\n",
       "          console.log(\"Bokeh: ERROR: Unable to run BokehJS code because BokehJS library is missing\");\n",
       "        }\n",
       "      }\n",
       "    }, 10, root)\n",
       "  }\n",
       "})(window);"
      ],
      "application/vnd.bokehjs_exec.v0+json": ""
     },
     "metadata": {
      "application/vnd.bokehjs_exec.v0+json": {
       "id": "p1971"
      }
     },
     "output_type": "display_data"
    },
    {
     "data": {
      "text/plain": [
       "'C:\\\\Users\\\\Chizzy\\\\Documents\\\\Notebooks\\\\Bokeh\\\\img\\\\fig5.png'"
      ]
     },
     "execution_count": 27,
     "metadata": {},
     "output_type": "execute_result"
    }
   ],
   "source": [
    "grouped = df.groupby('fare_amount').size().reset_index(name='airport_fee')\n",
    "source = ColumnDataSource(grouped)\n",
    "p = figure(title='Fare Amout  vs. Airport Fee', x_axis_label='Fare Amout', y_axis_label='Airport Fee', height=400)\n",
    "p.line(x='fare_amount', y='airport_fee', source=source)\n",
    "show(p)\n",
    "\n",
    "export_png(p, filename=\"img/fig5.png\")"
   ]
  },
  {
   "cell_type": "markdown",
   "id": "b105cbc2-efc9-4493-98d3-438533e26c4d",
   "metadata": {},
   "source": [
    "## 6. Plot histogram of selected features as subplot"
   ]
  },
  {
   "cell_type": "code",
   "execution_count": 28,
   "id": "78455f79-bc27-4936-a4e1-7cbc371437ec",
   "metadata": {},
   "outputs": [
    {
     "data": {
      "text/html": [
       "\n",
       "  <div id=\"8d076b71-7b35-4e02-b7de-44ce5a47437c\" data-root-id=\"p2539\" style=\"display: contents;\"></div>\n"
      ]
     },
     "metadata": {},
     "output_type": "display_data"
    },
    {
     "data": {
      "application/javascript": [
       "(function(root) {\n",
       "  function embed_document(root) {\n",
       "  const docs_json = {\"7c1abd73-349e-432d-aab0-a3a031329e27\":{\"version\":\"3.1.0\",\"title\":\"Bokeh Application\",\"defs\":[],\"roots\":[{\"type\":\"object\",\"name\":\"GridPlot\",\"id\":\"p2539\",\"attributes\":{\"rows\":null,\"cols\":null,\"toolbar\":{\"type\":\"object\",\"name\":\"Toolbar\",\"id\":\"p2538\",\"attributes\":{\"tools\":[{\"type\":\"object\",\"name\":\"ToolProxy\",\"id\":\"p2532\",\"attributes\":{\"tools\":[{\"type\":\"object\",\"name\":\"PanTool\",\"id\":\"p2280\"},{\"type\":\"object\",\"name\":\"PanTool\",\"id\":\"p2336\"},{\"type\":\"object\",\"name\":\"PanTool\",\"id\":\"p2392\"},{\"type\":\"object\",\"name\":\"PanTool\",\"id\":\"p2448\"}]}},{\"type\":\"object\",\"name\":\"ToolProxy\",\"id\":\"p2533\",\"attributes\":{\"tools\":[{\"type\":\"object\",\"name\":\"WheelZoomTool\",\"id\":\"p2281\"},{\"type\":\"object\",\"name\":\"WheelZoomTool\",\"id\":\"p2337\"},{\"type\":\"object\",\"name\":\"WheelZoomTool\",\"id\":\"p2393\"},{\"type\":\"object\",\"name\":\"WheelZoomTool\",\"id\":\"p2449\"}]}},{\"type\":\"object\",\"name\":\"ToolProxy\",\"id\":\"p2534\",\"attributes\":{\"tools\":[{\"type\":\"object\",\"name\":\"BoxZoomTool\",\"id\":\"p2282\",\"attributes\":{\"overlay\":{\"type\":\"object\",\"name\":\"BoxAnnotation\",\"id\":\"p2283\",\"attributes\":{\"syncable\":false,\"level\":\"overlay\",\"visible\":false,\"left_units\":\"canvas\",\"right_units\":\"canvas\",\"bottom_units\":\"canvas\",\"top_units\":\"canvas\",\"line_color\":\"black\",\"line_alpha\":1.0,\"line_width\":2,\"line_dash\":[4,4],\"fill_color\":\"lightgrey\",\"fill_alpha\":0.5}}}},{\"type\":\"object\",\"name\":\"BoxZoomTool\",\"id\":\"p2338\",\"attributes\":{\"overlay\":{\"type\":\"object\",\"name\":\"BoxAnnotation\",\"id\":\"p2339\",\"attributes\":{\"syncable\":false,\"level\":\"overlay\",\"visible\":false,\"left_units\":\"canvas\",\"right_units\":\"canvas\",\"bottom_units\":\"canvas\",\"top_units\":\"canvas\",\"line_color\":\"black\",\"line_alpha\":1.0,\"line_width\":2,\"line_dash\":[4,4],\"fill_color\":\"lightgrey\",\"fill_alpha\":0.5}}}},{\"type\":\"object\",\"name\":\"BoxZoomTool\",\"id\":\"p2394\",\"attributes\":{\"overlay\":{\"type\":\"object\",\"name\":\"BoxAnnotation\",\"id\":\"p2395\",\"attributes\":{\"syncable\":false,\"level\":\"overlay\",\"visible\":false,\"left_units\":\"canvas\",\"right_units\":\"canvas\",\"bottom_units\":\"canvas\",\"top_units\":\"canvas\",\"line_color\":\"black\",\"line_alpha\":1.0,\"line_width\":2,\"line_dash\":[4,4],\"fill_color\":\"lightgrey\",\"fill_alpha\":0.5}}}},{\"type\":\"object\",\"name\":\"BoxZoomTool\",\"id\":\"p2450\",\"attributes\":{\"overlay\":{\"type\":\"object\",\"name\":\"BoxAnnotation\",\"id\":\"p2451\",\"attributes\":{\"syncable\":false,\"level\":\"overlay\",\"visible\":false,\"left_units\":\"canvas\",\"right_units\":\"canvas\",\"bottom_units\":\"canvas\",\"top_units\":\"canvas\",\"line_color\":\"black\",\"line_alpha\":1.0,\"line_width\":2,\"line_dash\":[4,4],\"fill_color\":\"lightgrey\",\"fill_alpha\":0.5}}}}]}},{\"type\":\"object\",\"name\":\"SaveTool\",\"id\":\"p2535\"},{\"type\":\"object\",\"name\":\"ToolProxy\",\"id\":\"p2536\",\"attributes\":{\"tools\":[{\"type\":\"object\",\"name\":\"ResetTool\",\"id\":\"p2285\"},{\"type\":\"object\",\"name\":\"ResetTool\",\"id\":\"p2341\"},{\"type\":\"object\",\"name\":\"ResetTool\",\"id\":\"p2397\"},{\"type\":\"object\",\"name\":\"ResetTool\",\"id\":\"p2453\"}]}},{\"type\":\"object\",\"name\":\"ToolProxy\",\"id\":\"p2537\",\"attributes\":{\"tools\":[{\"type\":\"object\",\"name\":\"HelpTool\",\"id\":\"p2286\"},{\"type\":\"object\",\"name\":\"HelpTool\",\"id\":\"p2342\"},{\"type\":\"object\",\"name\":\"HelpTool\",\"id\":\"p2398\"},{\"type\":\"object\",\"name\":\"HelpTool\",\"id\":\"p2454\"}]}}]}},\"children\":[[{\"type\":\"object\",\"name\":\"Figure\",\"id\":\"p2248\",\"attributes\":{\"width\":500,\"height\":300,\"x_range\":{\"type\":\"object\",\"name\":\"DataRange1d\",\"id\":\"p2250\"},\"y_range\":{\"type\":\"object\",\"name\":\"DataRange1d\",\"id\":\"p2249\"},\"x_scale\":{\"type\":\"object\",\"name\":\"LinearScale\",\"id\":\"p2262\"},\"y_scale\":{\"type\":\"object\",\"name\":\"LinearScale\",\"id\":\"p2264\"},\"title\":{\"type\":\"object\",\"name\":\"Title\",\"id\":\"p2251\",\"attributes\":{\"text\":\"Passenger Count Distribution\"}},\"renderers\":[{\"type\":\"object\",\"name\":\"GlyphRenderer\",\"id\":\"p2301\",\"attributes\":{\"data_source\":{\"type\":\"object\",\"name\":\"ColumnDataSource\",\"id\":\"p2295\",\"attributes\":{\"selected\":{\"type\":\"object\",\"name\":\"Selection\",\"id\":\"p2297\",\"attributes\":{\"indices\":[],\"line_indices\":[]}},\"selection_policy\":{\"type\":\"object\",\"name\":\"UnionRenderers\",\"id\":\"p2296\"},\"data\":{\"type\":\"map\",\"entries\":[[\"top\",{\"type\":\"ndarray\",\"array\":{\"type\":\"bytes\",\"data\":\"XgAAAGgOAAAAAwAA0AAAAGcAAABOAAAAPQAAAAAAAAAAAAAA\"},\"shape\":[9],\"dtype\":\"int32\",\"order\":\"little\"}],[\"left\",{\"type\":\"ndarray\",\"array\":{\"type\":\"bytes\",\"data\":\"AAAAAAEAAAACAAAAAwAAAAQAAAAFAAAABgAAAAcAAAAIAAAA\"},\"shape\":[9],\"dtype\":\"int32\",\"order\":\"little\"}],[\"right\",{\"type\":\"ndarray\",\"array\":{\"type\":\"bytes\",\"data\":\"AQAAAAIAAAADAAAABAAAAAUAAAAGAAAABwAAAAgAAAAJAAAA\"},\"shape\":[9],\"dtype\":\"int32\",\"order\":\"little\"}]]}}},\"view\":{\"type\":\"object\",\"name\":\"CDSView\",\"id\":\"p2302\",\"attributes\":{\"filter\":{\"type\":\"object\",\"name\":\"AllIndices\",\"id\":\"p2303\"}}},\"glyph\":{\"type\":\"object\",\"name\":\"Quad\",\"id\":\"p2298\",\"attributes\":{\"left\":{\"type\":\"field\",\"field\":\"left\"},\"right\":{\"type\":\"field\",\"field\":\"right\"},\"bottom\":{\"type\":\"value\",\"value\":0},\"top\":{\"type\":\"field\",\"field\":\"top\"},\"line_color\":{\"type\":\"value\",\"value\":\"white\"},\"fill_color\":{\"type\":\"value\",\"value\":\"navy\"}}},\"nonselection_glyph\":{\"type\":\"object\",\"name\":\"Quad\",\"id\":\"p2299\",\"attributes\":{\"left\":{\"type\":\"field\",\"field\":\"left\"},\"right\":{\"type\":\"field\",\"field\":\"right\"},\"bottom\":{\"type\":\"value\",\"value\":0},\"top\":{\"type\":\"field\",\"field\":\"top\"},\"line_color\":{\"type\":\"value\",\"value\":\"white\"},\"line_alpha\":{\"type\":\"value\",\"value\":0.1},\"fill_color\":{\"type\":\"value\",\"value\":\"navy\"},\"fill_alpha\":{\"type\":\"value\",\"value\":0.1},\"hatch_alpha\":{\"type\":\"value\",\"value\":0.1}}},\"muted_glyph\":{\"type\":\"object\",\"name\":\"Quad\",\"id\":\"p2300\",\"attributes\":{\"left\":{\"type\":\"field\",\"field\":\"left\"},\"right\":{\"type\":\"field\",\"field\":\"right\"},\"bottom\":{\"type\":\"value\",\"value\":0},\"top\":{\"type\":\"field\",\"field\":\"top\"},\"line_color\":{\"type\":\"value\",\"value\":\"white\"},\"line_alpha\":{\"type\":\"value\",\"value\":0.2},\"fill_color\":{\"type\":\"value\",\"value\":\"navy\"},\"fill_alpha\":{\"type\":\"value\",\"value\":0.2},\"hatch_alpha\":{\"type\":\"value\",\"value\":0.2}}}}}],\"toolbar\":{\"type\":\"object\",\"name\":\"Toolbar\",\"id\":\"p2256\",\"attributes\":{\"tools\":[{\"id\":\"p2280\"},{\"id\":\"p2281\"},{\"id\":\"p2282\"},{\"type\":\"object\",\"name\":\"SaveTool\",\"id\":\"p2284\"},{\"id\":\"p2285\"},{\"id\":\"p2286\"}]}},\"toolbar_location\":null,\"left\":[{\"type\":\"object\",\"name\":\"LinearAxis\",\"id\":\"p2273\",\"attributes\":{\"ticker\":{\"type\":\"object\",\"name\":\"BasicTicker\",\"id\":\"p2274\",\"attributes\":{\"mantissas\":[1,2,5]}},\"formatter\":{\"type\":\"object\",\"name\":\"BasicTickFormatter\",\"id\":\"p2275\"},\"axis_label\":\"Frequency\",\"major_label_policy\":{\"type\":\"object\",\"name\":\"AllLabels\",\"id\":\"p2276\"}}}],\"below\":[{\"type\":\"object\",\"name\":\"LinearAxis\",\"id\":\"p2266\",\"attributes\":{\"ticker\":{\"type\":\"object\",\"name\":\"BasicTicker\",\"id\":\"p2267\",\"attributes\":{\"mantissas\":[1,2,5]}},\"formatter\":{\"type\":\"object\",\"name\":\"BasicTickFormatter\",\"id\":\"p2268\"},\"axis_label\":\"Passenger Count\",\"major_label_policy\":{\"type\":\"object\",\"name\":\"AllLabels\",\"id\":\"p2269\"}}}],\"center\":[{\"type\":\"object\",\"name\":\"Grid\",\"id\":\"p2272\",\"attributes\":{\"axis\":{\"id\":\"p2266\"}}},{\"type\":\"object\",\"name\":\"Grid\",\"id\":\"p2279\",\"attributes\":{\"dimension\":1,\"axis\":{\"id\":\"p2273\"}}}]}},0,0],[{\"type\":\"object\",\"name\":\"Figure\",\"id\":\"p2304\",\"attributes\":{\"width\":500,\"height\":300,\"x_range\":{\"type\":\"object\",\"name\":\"DataRange1d\",\"id\":\"p2306\"},\"y_range\":{\"type\":\"object\",\"name\":\"DataRange1d\",\"id\":\"p2305\"},\"x_scale\":{\"type\":\"object\",\"name\":\"LinearScale\",\"id\":\"p2318\"},\"y_scale\":{\"type\":\"object\",\"name\":\"LinearScale\",\"id\":\"p2320\"},\"title\":{\"type\":\"object\",\"name\":\"Title\",\"id\":\"p2307\",\"attributes\":{\"text\":\"Distance Distribution\"}},\"renderers\":[{\"type\":\"object\",\"name\":\"GlyphRenderer\",\"id\":\"p2357\",\"attributes\":{\"data_source\":{\"type\":\"object\",\"name\":\"ColumnDataSource\",\"id\":\"p2351\",\"attributes\":{\"selected\":{\"type\":\"object\",\"name\":\"Selection\",\"id\":\"p2353\",\"attributes\":{\"indices\":[],\"line_indices\":[]}},\"selection_policy\":{\"type\":\"object\",\"name\":\"UnionRenderers\",\"id\":\"p2352\"},\"data\":{\"type\":\"map\",\"entries\":[[\"top\",{\"type\":\"ndarray\",\"array\":{\"type\":\"bytes\",\"data\":\"YgQAAH4GAAAZAwAAmQEAAMYAAACIAAAAWgAAAEcAAABdAAAAPgAAADQAAAAeAAAADgAAAA8AAAAMAAAAHwAAAE8AAAA0AAAAIAAAABEAAAALAAAABAAAAAIAAAABAAAAAgAAAAEAAAABAAAAAQAAAAEAAAABAAAAAAAAAAEAAAAAAAAAAAAAAAAAAAAAAAAAAAAAAAAAAAAAAAAAAQAAAAEAAAAAAAAAAQAAAAAAAAAAAAAAAAAAAAAAAAAAAAAAAAAAAAEAAAA=\"},\"shape\":[50],\"dtype\":\"int32\",\"order\":\"little\"}],[\"left\",{\"type\":\"ndarray\",\"array\":{\"type\":\"bytes\",\"data\":\"AAAAAAAAAAAU0ETY8PTwPxTQRNjw9ABAHjhnRGlvCUAU0ETY8PQQQBkEVg4tMhVAHjhnRGlvGUAjbHh6pawdQBTQRNjw9CBAFmpN844TI0AZBFYOLTIlQByeXinLUCdAHjhnRGlvKUAg0m9fB44rQCNseHqlrC1AJgaBlUPLL0AU0ETY8PQwQBUdyeU/BDJAFmpN844TM0AYt9EA3iI0QBkEVg4tMjVAGlHaG3xBNkAcnl4py1A3QB3r4jYaYDhAHjhnRGlvOUAfhetRuH46QCDSb18HjjtAIh/0bFadPEAjbHh6paw9QCS5/If0uz5AJgaBlUPLP0CTqYJRSW1AQBTQRNjw9EBAlfYGX5h8QUAVHcnlPwRCQJZDi2zni0JAFmpN844TQ0CXkA96NptDQBi30QDeIkRAmN2Th4WqREAZBFYOLTJFQJoqGJXUuUVAGlHaG3xBRkCbd5yiI8lGQByeXinLUEdAnMQgsHLYR0Ad6+I2GmBIQJ0Rpb3B50hAHjhnRGlvSUCfXinLEPdJQA==\"},\"shape\":[50],\"dtype\":\"float64\",\"order\":\"little\"}],[\"right\",{\"type\":\"ndarray\",\"array\":{\"type\":\"bytes\",\"data\":\"FNBE2PD08D8U0ETY8PQAQB44Z0RpbwlAFNBE2PD0EEAZBFYOLTIVQB44Z0RpbxlAI2x4eqWsHUAU0ETY8PQgQBZqTfOOEyNAGQRWDi0yJUAcnl4py1AnQB44Z0RpbylAINJvXweOK0AjbHh6pawtQCYGgZVDyy9AFNBE2PD0MEAVHcnlPwQyQBZqTfOOEzNAGLfRAN4iNEAZBFYOLTI1QBpR2ht8QTZAHJ5eKctQN0Ad6+I2GmA4QB44Z0RpbzlAH4XrUbh+OkAg0m9fB447QCIf9GxWnTxAI2x4eqWsPUAkufyH9Ls+QCYGgZVDyz9Ak6mCUUltQEAU0ETY8PRAQJX2Bl+YfEFAFR3J5T8EQkCWQ4ts54tCQBZqTfOOE0NAl5APejabQ0AYt9EA3iJEQJjdk4eFqkRAGQRWDi0yRUCaKhiV1LlFQBpR2ht8QUZAm3ecoiPJRkAcnl4py1BHQJzEILBy2EdAHeviNhpgSECdEaW9wedIQB44Z0Rpb0lAn14pyxD3SUAfhetRuH5KQA==\"},\"shape\":[50],\"dtype\":\"float64\",\"order\":\"little\"}]]}}},\"view\":{\"type\":\"object\",\"name\":\"CDSView\",\"id\":\"p2358\",\"attributes\":{\"filter\":{\"type\":\"object\",\"name\":\"AllIndices\",\"id\":\"p2359\"}}},\"glyph\":{\"type\":\"object\",\"name\":\"Quad\",\"id\":\"p2354\",\"attributes\":{\"left\":{\"type\":\"field\",\"field\":\"left\"},\"right\":{\"type\":\"field\",\"field\":\"right\"},\"bottom\":{\"type\":\"value\",\"value\":0},\"top\":{\"type\":\"field\",\"field\":\"top\"},\"line_color\":{\"type\":\"value\",\"value\":\"white\"},\"fill_color\":{\"type\":\"value\",\"value\":\"navy\"}}},\"nonselection_glyph\":{\"type\":\"object\",\"name\":\"Quad\",\"id\":\"p2355\",\"attributes\":{\"left\":{\"type\":\"field\",\"field\":\"left\"},\"right\":{\"type\":\"field\",\"field\":\"right\"},\"bottom\":{\"type\":\"value\",\"value\":0},\"top\":{\"type\":\"field\",\"field\":\"top\"},\"line_color\":{\"type\":\"value\",\"value\":\"white\"},\"line_alpha\":{\"type\":\"value\",\"value\":0.1},\"fill_color\":{\"type\":\"value\",\"value\":\"navy\"},\"fill_alpha\":{\"type\":\"value\",\"value\":0.1},\"hatch_alpha\":{\"type\":\"value\",\"value\":0.1}}},\"muted_glyph\":{\"type\":\"object\",\"name\":\"Quad\",\"id\":\"p2356\",\"attributes\":{\"left\":{\"type\":\"field\",\"field\":\"left\"},\"right\":{\"type\":\"field\",\"field\":\"right\"},\"bottom\":{\"type\":\"value\",\"value\":0},\"top\":{\"type\":\"field\",\"field\":\"top\"},\"line_color\":{\"type\":\"value\",\"value\":\"white\"},\"line_alpha\":{\"type\":\"value\",\"value\":0.2},\"fill_color\":{\"type\":\"value\",\"value\":\"navy\"},\"fill_alpha\":{\"type\":\"value\",\"value\":0.2},\"hatch_alpha\":{\"type\":\"value\",\"value\":0.2}}}}}],\"toolbar\":{\"type\":\"object\",\"name\":\"Toolbar\",\"id\":\"p2312\",\"attributes\":{\"tools\":[{\"id\":\"p2336\"},{\"id\":\"p2337\"},{\"id\":\"p2338\"},{\"type\":\"object\",\"name\":\"SaveTool\",\"id\":\"p2340\"},{\"id\":\"p2341\"},{\"id\":\"p2342\"}]}},\"toolbar_location\":null,\"left\":[{\"type\":\"object\",\"name\":\"LinearAxis\",\"id\":\"p2329\",\"attributes\":{\"ticker\":{\"type\":\"object\",\"name\":\"BasicTicker\",\"id\":\"p2330\",\"attributes\":{\"mantissas\":[1,2,5]}},\"formatter\":{\"type\":\"object\",\"name\":\"BasicTickFormatter\",\"id\":\"p2331\"},\"axis_label\":\"Frequency\",\"major_label_policy\":{\"type\":\"object\",\"name\":\"AllLabels\",\"id\":\"p2332\"}}}],\"below\":[{\"type\":\"object\",\"name\":\"LinearAxis\",\"id\":\"p2322\",\"attributes\":{\"ticker\":{\"type\":\"object\",\"name\":\"BasicTicker\",\"id\":\"p2323\",\"attributes\":{\"mantissas\":[1,2,5]}},\"formatter\":{\"type\":\"object\",\"name\":\"BasicTickFormatter\",\"id\":\"p2324\"},\"axis_label\":\"Trip Distance\",\"major_label_policy\":{\"type\":\"object\",\"name\":\"AllLabels\",\"id\":\"p2325\"}}}],\"center\":[{\"type\":\"object\",\"name\":\"Grid\",\"id\":\"p2328\",\"attributes\":{\"axis\":{\"id\":\"p2322\"}}},{\"type\":\"object\",\"name\":\"Grid\",\"id\":\"p2335\",\"attributes\":{\"dimension\":1,\"axis\":{\"id\":\"p2329\"}}}]}},0,1],[{\"type\":\"object\",\"name\":\"Figure\",\"id\":\"p2360\",\"attributes\":{\"width\":500,\"height\":300,\"x_range\":{\"type\":\"object\",\"name\":\"DataRange1d\",\"id\":\"p2362\"},\"y_range\":{\"type\":\"object\",\"name\":\"DataRange1d\",\"id\":\"p2361\"},\"x_scale\":{\"type\":\"object\",\"name\":\"LinearScale\",\"id\":\"p2374\"},\"y_scale\":{\"type\":\"object\",\"name\":\"LinearScale\",\"id\":\"p2376\"},\"title\":{\"type\":\"object\",\"name\":\"Title\",\"id\":\"p2363\",\"attributes\":{\"text\":\"Payment Type Distribution\"}},\"renderers\":[{\"type\":\"object\",\"name\":\"GlyphRenderer\",\"id\":\"p2413\",\"attributes\":{\"data_source\":{\"type\":\"object\",\"name\":\"ColumnDataSource\",\"id\":\"p2407\",\"attributes\":{\"selected\":{\"type\":\"object\",\"name\":\"Selection\",\"id\":\"p2409\",\"attributes\":{\"indices\":[],\"line_indices\":[]}},\"selection_policy\":{\"type\":\"object\",\"name\":\"UnionRenderers\",\"id\":\"p2408\"},\"data\":{\"type\":\"map\",\"entries\":[[\"top\",{\"type\":\"ndarray\",\"array\":{\"type\":\"bytes\",\"data\":\"YA8AAAAAAAAAAAAA/gMAAAAAAAAAAAAAFwAAAAAAAAAAAAAAEwAAAA==\"},\"shape\":[10],\"dtype\":\"int32\",\"order\":\"little\"}],[\"left\",{\"type\":\"ndarray\",\"array\":{\"type\":\"bytes\",\"data\":\"AAAAAAAA8D/NzMzMzMz0P5qZmZmZmfk/ZmZmZmZm/j+amZmZmZkBQAAAAAAAAARAZmZmZmZmBkDNzMzMzMwIQDMzMzMzMwtAmZmZmZmZDUA=\"},\"shape\":[10],\"dtype\":\"float64\",\"order\":\"little\"}],[\"right\",{\"type\":\"ndarray\",\"array\":{\"type\":\"bytes\",\"data\":\"zczMzMzM9D+amZmZmZn5P2ZmZmZmZv4/mpmZmZmZAUAAAAAAAAAEQGZmZmZmZgZAzczMzMzMCEAzMzMzMzMLQJmZmZmZmQ1AAAAAAAAAEEA=\"},\"shape\":[10],\"dtype\":\"float64\",\"order\":\"little\"}]]}}},\"view\":{\"type\":\"object\",\"name\":\"CDSView\",\"id\":\"p2414\",\"attributes\":{\"filter\":{\"type\":\"object\",\"name\":\"AllIndices\",\"id\":\"p2415\"}}},\"glyph\":{\"type\":\"object\",\"name\":\"Quad\",\"id\":\"p2410\",\"attributes\":{\"left\":{\"type\":\"field\",\"field\":\"left\"},\"right\":{\"type\":\"field\",\"field\":\"right\"},\"bottom\":{\"type\":\"value\",\"value\":0},\"top\":{\"type\":\"field\",\"field\":\"top\"},\"line_color\":{\"type\":\"value\",\"value\":\"white\"},\"fill_color\":{\"type\":\"value\",\"value\":\"navy\"}}},\"nonselection_glyph\":{\"type\":\"object\",\"name\":\"Quad\",\"id\":\"p2411\",\"attributes\":{\"left\":{\"type\":\"field\",\"field\":\"left\"},\"right\":{\"type\":\"field\",\"field\":\"right\"},\"bottom\":{\"type\":\"value\",\"value\":0},\"top\":{\"type\":\"field\",\"field\":\"top\"},\"line_color\":{\"type\":\"value\",\"value\":\"white\"},\"line_alpha\":{\"type\":\"value\",\"value\":0.1},\"fill_color\":{\"type\":\"value\",\"value\":\"navy\"},\"fill_alpha\":{\"type\":\"value\",\"value\":0.1},\"hatch_alpha\":{\"type\":\"value\",\"value\":0.1}}},\"muted_glyph\":{\"type\":\"object\",\"name\":\"Quad\",\"id\":\"p2412\",\"attributes\":{\"left\":{\"type\":\"field\",\"field\":\"left\"},\"right\":{\"type\":\"field\",\"field\":\"right\"},\"bottom\":{\"type\":\"value\",\"value\":0},\"top\":{\"type\":\"field\",\"field\":\"top\"},\"line_color\":{\"type\":\"value\",\"value\":\"white\"},\"line_alpha\":{\"type\":\"value\",\"value\":0.2},\"fill_color\":{\"type\":\"value\",\"value\":\"navy\"},\"fill_alpha\":{\"type\":\"value\",\"value\":0.2},\"hatch_alpha\":{\"type\":\"value\",\"value\":0.2}}}}}],\"toolbar\":{\"type\":\"object\",\"name\":\"Toolbar\",\"id\":\"p2368\",\"attributes\":{\"tools\":[{\"id\":\"p2392\"},{\"id\":\"p2393\"},{\"id\":\"p2394\"},{\"type\":\"object\",\"name\":\"SaveTool\",\"id\":\"p2396\"},{\"id\":\"p2397\"},{\"id\":\"p2398\"}]}},\"toolbar_location\":null,\"left\":[{\"type\":\"object\",\"name\":\"LinearAxis\",\"id\":\"p2385\",\"attributes\":{\"ticker\":{\"type\":\"object\",\"name\":\"BasicTicker\",\"id\":\"p2386\",\"attributes\":{\"mantissas\":[1,2,5]}},\"formatter\":{\"type\":\"object\",\"name\":\"BasicTickFormatter\",\"id\":\"p2387\"},\"axis_label\":\"Frequency\",\"major_label_policy\":{\"type\":\"object\",\"name\":\"AllLabels\",\"id\":\"p2388\"}}}],\"below\":[{\"type\":\"object\",\"name\":\"LinearAxis\",\"id\":\"p2378\",\"attributes\":{\"ticker\":{\"type\":\"object\",\"name\":\"BasicTicker\",\"id\":\"p2379\",\"attributes\":{\"mantissas\":[1,2,5]}},\"formatter\":{\"type\":\"object\",\"name\":\"BasicTickFormatter\",\"id\":\"p2380\"},\"axis_label\":\"Payment Type\",\"major_label_policy\":{\"type\":\"object\",\"name\":\"AllLabels\",\"id\":\"p2381\"}}}],\"center\":[{\"type\":\"object\",\"name\":\"Grid\",\"id\":\"p2384\",\"attributes\":{\"axis\":{\"id\":\"p2378\"}}},{\"type\":\"object\",\"name\":\"Grid\",\"id\":\"p2391\",\"attributes\":{\"dimension\":1,\"axis\":{\"id\":\"p2385\"}}}]}},1,0],[{\"type\":\"object\",\"name\":\"Figure\",\"id\":\"p2416\",\"attributes\":{\"width\":500,\"height\":300,\"x_range\":{\"type\":\"object\",\"name\":\"DataRange1d\",\"id\":\"p2418\"},\"y_range\":{\"type\":\"object\",\"name\":\"DataRange1d\",\"id\":\"p2417\"},\"x_scale\":{\"type\":\"object\",\"name\":\"LinearScale\",\"id\":\"p2430\"},\"y_scale\":{\"type\":\"object\",\"name\":\"LinearScale\",\"id\":\"p2432\"},\"title\":{\"type\":\"object\",\"name\":\"Title\",\"id\":\"p2419\",\"attributes\":{\"text\":\"Amount Distribution\"}},\"renderers\":[{\"type\":\"object\",\"name\":\"GlyphRenderer\",\"id\":\"p2469\",\"attributes\":{\"data_source\":{\"type\":\"object\",\"name\":\"ColumnDataSource\",\"id\":\"p2463\",\"attributes\":{\"selected\":{\"type\":\"object\",\"name\":\"Selection\",\"id\":\"p2465\",\"attributes\":{\"indices\":[],\"line_indices\":[]}},\"selection_policy\":{\"type\":\"object\",\"name\":\"UnionRenderers\",\"id\":\"p2464\"},\"data\":{\"type\":\"map\",\"entries\":[[\"top\",{\"type\":\"ndarray\",\"array\":{\"type\":\"bytes\",\"data\":\"AgAAAAEAAAABAAAAAQAAAAEAAAABAAAAAAAAAAQAAAAJAAAABQAAAAEAAADIAAAAZQYAAHAFAACHAgAARAEAAKYAAABbAAAATwAAAEUAAABJAAAAIgAAACkAAAAxAAAAZQAAACMAAAAKAAAABgAAAAIAAAAEAAAABAAAAAEAAAABAAAAAAAAAAEAAAABAAAAAQAAAAAAAAACAAAAAQAAAAAAAAAAAAAAAAAAAAAAAAAAAAAAAQAAAAAAAAAAAAAAAAAAAAAAAAAAAAAAAAAAAAAAAAAAAAAAAAAAAAAAAAAAAAAAAAAAAAAAAAABAAAA\"},\"shape\":[60],\"dtype\":\"int32\",\"order\":\"little\"}],[\"left\",{\"type\":\"ndarray\",\"array\":{\"type\":\"bytes\",\"data\":\"ZmZmZmYGS8C7u7u7u2tIwBERERER0UXAZmZmZmY2Q8C8u7u7u5tAwCIiIiIiAjzAzMzMzMzMNsB4d3d3d5cxwERERERExCjAMDMzMzOzHMCAd3d3d3f/v/Du7u7u7glAaGZmZmbmIEAQEREREVErQNzd3d3d3TJANDMzMzMTOECIiIiIiEg9QO7u7u7uPkFAmpmZmZnZQ0BERERERHRGQO7u7u7uDklAmpmZmZmpS0BEREREREROQHd3d3d3b1BAzczMzMy8UUAhIiIiIgpTQHd3d3d3V1RAzczMzMykVUAhIiIiIvJWQHd3d3d3P1hAzczMzMyMWUAhIiIiItpaQHd3d3d3J1xAzczMzMx0XUAhIiIiIsJeQLy7u7u7B2BAZmZmZmauYEAQEREREVVhQLy7u7u7+2FAZmZmZmaiYkAQEREREUljQLy7u7u772NAZmZmZmaWZEAQERERET1lQLy7u7u742VAZmZmZmaKZkAQERERETFnQLy7u7u712dAZmZmZmZ+aEAQERERESVpQLq7u7u7y2lAZmZmZmZyakAQERERERlrQLq7u7u7v2tAZmZmZmZmbEAQEREREQ1tQLq7u7u7s21AZmZmZmZabkAQEREREQFvQLq7u7u7p29A\"},\"shape\":[60],\"dtype\":\"float64\",\"order\":\"little\"}],[\"right\",{\"type\":\"ndarray\",\"array\":{\"type\":\"bytes\",\"data\":\"u7u7u7trSMAREREREdFFwGZmZmZmNkPAvLu7u7ubQMAiIiIiIgI8wMzMzMzMzDbAeHd3d3eXMcBERERERMQowDAzMzMzsxzAgHd3d3d3/7/w7u7u7u4JQGhmZmZm5iBAEBERERFRK0Dc3d3d3d0yQDQzMzMzEzhAiIiIiIhIPUDu7u7u7j5BQJqZmZmZ2UNARERERER0RkDu7u7u7g5JQJqZmZmZqUtARERERERETkB3d3d3d29QQM3MzMzMvFFAISIiIiIKU0B3d3d3d1dUQM3MzMzMpFVAISIiIiLyVkB3d3d3dz9YQM3MzMzMjFlAISIiIiLaWkB3d3d3dydcQM3MzMzMdF1AISIiIiLCXkC8u7u7uwdgQGZmZmZmrmBAEBERERFVYUC8u7u7u/thQGZmZmZmomJAEBERERFJY0C8u7u7u+9jQGZmZmZmlmRAEBERERE9ZUC8u7u7u+NlQGZmZmZmimZAEBERERExZ0C8u7u7u9dnQGZmZmZmfmhAEBERERElaUC6u7u7u8tpQGZmZmZmcmpAEBEREREZa0C6u7u7u79rQGZmZmZmZmxAEBERERENbUC6u7u7u7NtQGZmZmZmWm5AEBEREREBb0C6u7u7u6dvQDMzMzMzJ3BA\"},\"shape\":[60],\"dtype\":\"float64\",\"order\":\"little\"}]]}}},\"view\":{\"type\":\"object\",\"name\":\"CDSView\",\"id\":\"p2470\",\"attributes\":{\"filter\":{\"type\":\"object\",\"name\":\"AllIndices\",\"id\":\"p2471\"}}},\"glyph\":{\"type\":\"object\",\"name\":\"Quad\",\"id\":\"p2466\",\"attributes\":{\"left\":{\"type\":\"field\",\"field\":\"left\"},\"right\":{\"type\":\"field\",\"field\":\"right\"},\"bottom\":{\"type\":\"value\",\"value\":0},\"top\":{\"type\":\"field\",\"field\":\"top\"},\"line_color\":{\"type\":\"value\",\"value\":\"white\"},\"fill_color\":{\"type\":\"value\",\"value\":\"navy\"}}},\"nonselection_glyph\":{\"type\":\"object\",\"name\":\"Quad\",\"id\":\"p2467\",\"attributes\":{\"left\":{\"type\":\"field\",\"field\":\"left\"},\"right\":{\"type\":\"field\",\"field\":\"right\"},\"bottom\":{\"type\":\"value\",\"value\":0},\"top\":{\"type\":\"field\",\"field\":\"top\"},\"line_color\":{\"type\":\"value\",\"value\":\"white\"},\"line_alpha\":{\"type\":\"value\",\"value\":0.1},\"fill_color\":{\"type\":\"value\",\"value\":\"navy\"},\"fill_alpha\":{\"type\":\"value\",\"value\":0.1},\"hatch_alpha\":{\"type\":\"value\",\"value\":0.1}}},\"muted_glyph\":{\"type\":\"object\",\"name\":\"Quad\",\"id\":\"p2468\",\"attributes\":{\"left\":{\"type\":\"field\",\"field\":\"left\"},\"right\":{\"type\":\"field\",\"field\":\"right\"},\"bottom\":{\"type\":\"value\",\"value\":0},\"top\":{\"type\":\"field\",\"field\":\"top\"},\"line_color\":{\"type\":\"value\",\"value\":\"white\"},\"line_alpha\":{\"type\":\"value\",\"value\":0.2},\"fill_color\":{\"type\":\"value\",\"value\":\"navy\"},\"fill_alpha\":{\"type\":\"value\",\"value\":0.2},\"hatch_alpha\":{\"type\":\"value\",\"value\":0.2}}}}}],\"toolbar\":{\"type\":\"object\",\"name\":\"Toolbar\",\"id\":\"p2424\",\"attributes\":{\"tools\":[{\"id\":\"p2448\"},{\"id\":\"p2449\"},{\"id\":\"p2450\"},{\"type\":\"object\",\"name\":\"SaveTool\",\"id\":\"p2452\"},{\"id\":\"p2453\"},{\"id\":\"p2454\"}]}},\"toolbar_location\":null,\"left\":[{\"type\":\"object\",\"name\":\"LinearAxis\",\"id\":\"p2441\",\"attributes\":{\"ticker\":{\"type\":\"object\",\"name\":\"BasicTicker\",\"id\":\"p2442\",\"attributes\":{\"mantissas\":[1,2,5]}},\"formatter\":{\"type\":\"object\",\"name\":\"BasicTickFormatter\",\"id\":\"p2443\"},\"axis_label\":\"Frequency\",\"major_label_policy\":{\"type\":\"object\",\"name\":\"AllLabels\",\"id\":\"p2444\"}}}],\"below\":[{\"type\":\"object\",\"name\":\"LinearAxis\",\"id\":\"p2434\",\"attributes\":{\"ticker\":{\"type\":\"object\",\"name\":\"BasicTicker\",\"id\":\"p2435\",\"attributes\":{\"mantissas\":[1,2,5]}},\"formatter\":{\"type\":\"object\",\"name\":\"BasicTickFormatter\",\"id\":\"p2436\"},\"axis_label\":\"Total Amount\",\"major_label_policy\":{\"type\":\"object\",\"name\":\"AllLabels\",\"id\":\"p2437\"}}}],\"center\":[{\"type\":\"object\",\"name\":\"Grid\",\"id\":\"p2440\",\"attributes\":{\"axis\":{\"id\":\"p2434\"}}},{\"type\":\"object\",\"name\":\"Grid\",\"id\":\"p2447\",\"attributes\":{\"dimension\":1,\"axis\":{\"id\":\"p2441\"}}}]}},1,1]]}}],\"callbacks\":{\"type\":\"map\"}}};\n",
       "  const render_items = [{\"docid\":\"7c1abd73-349e-432d-aab0-a3a031329e27\",\"roots\":{\"p2539\":\"8d076b71-7b35-4e02-b7de-44ce5a47437c\"},\"root_ids\":[\"p2539\"]}];\n",
       "  root.Bokeh.embed.embed_items_notebook(docs_json, render_items);\n",
       "  }\n",
       "  if (root.Bokeh !== undefined) {\n",
       "    embed_document(root);\n",
       "  } else {\n",
       "    let attempts = 0;\n",
       "    const timer = setInterval(function(root) {\n",
       "      if (root.Bokeh !== undefined) {\n",
       "        clearInterval(timer);\n",
       "        embed_document(root);\n",
       "      } else {\n",
       "        attempts++;\n",
       "        if (attempts > 100) {\n",
       "          clearInterval(timer);\n",
       "          console.log(\"Bokeh: ERROR: Unable to run BokehJS code because BokehJS library is missing\");\n",
       "        }\n",
       "      }\n",
       "    }, 10, root)\n",
       "  }\n",
       "})(window);"
      ],
      "application/vnd.bokehjs_exec.v0+json": ""
     },
     "metadata": {
      "application/vnd.bokehjs_exec.v0+json": {
       "id": "p2539"
      }
     },
     "output_type": "display_data"
    },
    {
     "data": {
      "text/plain": [
       "'C:\\\\Users\\\\Chizzy\\\\Documents\\\\Notebooks\\\\Bokeh\\\\img\\\\fig6.png'"
      ]
     },
     "execution_count": 28,
     "metadata": {},
     "output_type": "execute_result"
    }
   ],
   "source": [
    "# create histograms to show distribution\n",
    "p1 = figure(title=\"Passenger Count Distribution\", x_axis_label=\"Passenger Count\", y_axis_label=\"Frequency\", height=300, width=500)\n",
    "hist, edges = np.histogram(df['passenger_count'], bins=range(10))\n",
    "p1.quad(top=hist, bottom=0, left=edges[:-1], right=edges[1:], fill_color='navy', line_color='white')\n",
    "\n",
    "# create a figure with a title and axis labels\n",
    "p2 = figure(title=\"Distance Distribution\", x_axis_label=\"Trip Distance\", y_axis_label=\"Frequency\", height=300, width=500)\n",
    "hist, edges = np.histogram(df['trip_distance'], bins=50)\n",
    "p2.quad(top=hist, bottom=0, left=edges[:-1], right=edges[1:], fill_color='navy', line_color='white')\n",
    "\n",
    "# create a figure with a title and axis labels\n",
    "p3 = figure(title=\"Payment Type Distribution\", x_axis_label=\"Payment Type\", y_axis_label=\"Frequency\", height=300, width=500)\n",
    "hist, edges = np.histogram(df['payment_type'])\n",
    "p3.quad(top=hist, bottom=0, left=edges[:-1], right=edges[1:], fill_color='navy', line_color='white')\n",
    "\n",
    "# create a figure with a title and axis labels\n",
    "p4 = figure(title=\"Amount Distribution\", x_axis_label=\"Total Amount\", y_axis_label=\"Frequency\", height=300, width=500)\n",
    "hist, edges = np.histogram(df['total_amount'], bins=60)\n",
    "p4.quad(top=hist, bottom=0, left=edges[:-1], right=edges[1:], fill_color='navy', line_color='white')\n",
    "\n",
    "# create a grid of plots and show them\n",
    "grid = gridplot([[p1, p2], [p3, p4]])\n",
    "show(grid)\n",
    "\n",
    "export_png(grid, filename=\"img/fig6.png\")"
   ]
  },
  {
   "cell_type": "markdown",
   "id": "63b6e958-742e-4ba1-9453-075a1d6a9563",
   "metadata": {},
   "source": [
    "## 7. Plot Payment type vs. Total amount"
   ]
  },
  {
   "cell_type": "code",
   "execution_count": 29,
   "id": "4e089ae5-5557-4013-b40d-ceeb5881a8da",
   "metadata": {},
   "outputs": [
    {
     "data": {
      "text/html": [
       "\n",
       "  <div id=\"bb39d343-4fad-44f8-a780-c77837b84199\" data-root-id=\"p3410\" style=\"display: contents;\"></div>\n"
      ]
     },
     "metadata": {},
     "output_type": "display_data"
    },
    {
     "data": {
      "application/javascript": [
       "(function(root) {\n",
       "  function embed_document(root) {\n",
       "  const docs_json = {\"97c8c7ca-4380-4f37-ada9-a29c72e714c3\":{\"version\":\"3.1.0\",\"title\":\"Bokeh Application\",\"defs\":[],\"roots\":[{\"type\":\"object\",\"name\":\"GridPlot\",\"id\":\"p3410\",\"attributes\":{\"rows\":null,\"cols\":null,\"toolbar\":{\"type\":\"object\",\"name\":\"Toolbar\",\"id\":\"p3409\",\"attributes\":{\"tools\":[{\"type\":\"object\",\"name\":\"ToolProxy\",\"id\":\"p3403\",\"attributes\":{\"tools\":[{\"type\":\"object\",\"name\":\"PanTool\",\"id\":\"p3290\"},{\"type\":\"object\",\"name\":\"PanTool\",\"id\":\"p3349\"}]}},{\"type\":\"object\",\"name\":\"ToolProxy\",\"id\":\"p3404\",\"attributes\":{\"tools\":[{\"type\":\"object\",\"name\":\"WheelZoomTool\",\"id\":\"p3291\"},{\"type\":\"object\",\"name\":\"WheelZoomTool\",\"id\":\"p3350\"}]}},{\"type\":\"object\",\"name\":\"ToolProxy\",\"id\":\"p3405\",\"attributes\":{\"tools\":[{\"type\":\"object\",\"name\":\"BoxZoomTool\",\"id\":\"p3292\",\"attributes\":{\"overlay\":{\"type\":\"object\",\"name\":\"BoxAnnotation\",\"id\":\"p3293\",\"attributes\":{\"syncable\":false,\"level\":\"overlay\",\"visible\":false,\"left_units\":\"canvas\",\"right_units\":\"canvas\",\"bottom_units\":\"canvas\",\"top_units\":\"canvas\",\"line_color\":\"black\",\"line_alpha\":1.0,\"line_width\":2,\"line_dash\":[4,4],\"fill_color\":\"lightgrey\",\"fill_alpha\":0.5}}}},{\"type\":\"object\",\"name\":\"BoxZoomTool\",\"id\":\"p3351\",\"attributes\":{\"overlay\":{\"type\":\"object\",\"name\":\"BoxAnnotation\",\"id\":\"p3352\",\"attributes\":{\"syncable\":false,\"level\":\"overlay\",\"visible\":false,\"left_units\":\"canvas\",\"right_units\":\"canvas\",\"bottom_units\":\"canvas\",\"top_units\":\"canvas\",\"line_color\":\"black\",\"line_alpha\":1.0,\"line_width\":2,\"line_dash\":[4,4],\"fill_color\":\"lightgrey\",\"fill_alpha\":0.5}}}}]}},{\"type\":\"object\",\"name\":\"SaveTool\",\"id\":\"p3406\"},{\"type\":\"object\",\"name\":\"ToolProxy\",\"id\":\"p3407\",\"attributes\":{\"tools\":[{\"type\":\"object\",\"name\":\"ResetTool\",\"id\":\"p3295\"},{\"type\":\"object\",\"name\":\"ResetTool\",\"id\":\"p3354\"}]}},{\"type\":\"object\",\"name\":\"ToolProxy\",\"id\":\"p3408\",\"attributes\":{\"tools\":[{\"type\":\"object\",\"name\":\"HelpTool\",\"id\":\"p3296\"},{\"type\":\"object\",\"name\":\"HelpTool\",\"id\":\"p3355\"}]}}]}},\"children\":[[{\"type\":\"object\",\"name\":\"Figure\",\"id\":\"p3258\",\"attributes\":{\"width\":500,\"height\":300,\"x_range\":{\"type\":\"object\",\"name\":\"DataRange1d\",\"id\":\"p3260\"},\"y_range\":{\"type\":\"object\",\"name\":\"DataRange1d\",\"id\":\"p3259\"},\"x_scale\":{\"type\":\"object\",\"name\":\"LinearScale\",\"id\":\"p3272\"},\"y_scale\":{\"type\":\"object\",\"name\":\"LinearScale\",\"id\":\"p3274\"},\"title\":{\"type\":\"object\",\"name\":\"Title\",\"id\":\"p3261\",\"attributes\":{\"text\":\"Payment type vs. Total amount\"}},\"renderers\":[{\"type\":\"object\",\"name\":\"GlyphRenderer\",\"id\":\"p3311\",\"attributes\":{\"data_source\":{\"type\":\"object\",\"name\":\"ColumnDataSource\",\"id\":\"p3255\",\"attributes\":{\"selected\":{\"type\":\"object\",\"name\":\"Selection\",\"id\":\"p3257\",\"attributes\":{\"indices\":[],\"line_indices\":[]}},\"selection_policy\":{\"type\":\"object\",\"name\":\"UnionRenderers\",\"id\":\"p3256\"},\"data\":{\"type\":\"map\",\"entries\":[[\"index\",{\"type\":\"ndarray\",\"array\":{\"type\":\"bytes\",\"data\":\"AAAAAAEAAAACAAAAAwAAAA==\"},\"shape\":[4],\"dtype\":\"int32\",\"order\":\"little\"}],[\"payment_type\",{\"type\":\"ndarray\",\"array\":{\"type\":\"bytes\",\"data\":\"AQAAAAIAAAADAAAABAAAAA==\"},\"shape\":[4],\"dtype\":\"int32\",\"order\":\"little\"}],[\"total_amount\",{\"type\":\"ndarray\",\"array\":{\"type\":\"bytes\",\"data\":\"0WcLfbYeNkDVEIh2U80xQFP5MO7XJR1AWzXn6UrvE8A=\"},\"shape\":[4],\"dtype\":\"float64\",\"order\":\"little\"}]]}}},\"view\":{\"type\":\"object\",\"name\":\"CDSView\",\"id\":\"p3312\",\"attributes\":{\"filter\":{\"type\":\"object\",\"name\":\"AllIndices\",\"id\":\"p3313\"}}},\"glyph\":{\"type\":\"object\",\"name\":\"VBar\",\"id\":\"p3308\",\"attributes\":{\"x\":{\"type\":\"field\",\"field\":\"payment_type\"},\"width\":{\"type\":\"value\",\"value\":0.5},\"top\":{\"type\":\"field\",\"field\":\"total_amount\"},\"line_color\":{\"type\":\"value\",\"value\":\"#1f77b4\"},\"fill_color\":{\"type\":\"value\",\"value\":\"#1f77b4\"}}},\"nonselection_glyph\":{\"type\":\"object\",\"name\":\"VBar\",\"id\":\"p3309\",\"attributes\":{\"x\":{\"type\":\"field\",\"field\":\"payment_type\"},\"width\":{\"type\":\"value\",\"value\":0.5},\"top\":{\"type\":\"field\",\"field\":\"total_amount\"},\"line_color\":{\"type\":\"value\",\"value\":\"#1f77b4\"},\"line_alpha\":{\"type\":\"value\",\"value\":0.1},\"fill_color\":{\"type\":\"value\",\"value\":\"#1f77b4\"},\"fill_alpha\":{\"type\":\"value\",\"value\":0.1},\"hatch_alpha\":{\"type\":\"value\",\"value\":0.1}}},\"muted_glyph\":{\"type\":\"object\",\"name\":\"VBar\",\"id\":\"p3310\",\"attributes\":{\"x\":{\"type\":\"field\",\"field\":\"payment_type\"},\"width\":{\"type\":\"value\",\"value\":0.5},\"top\":{\"type\":\"field\",\"field\":\"total_amount\"},\"line_color\":{\"type\":\"value\",\"value\":\"#1f77b4\"},\"line_alpha\":{\"type\":\"value\",\"value\":0.2},\"fill_color\":{\"type\":\"value\",\"value\":\"#1f77b4\"},\"fill_alpha\":{\"type\":\"value\",\"value\":0.2},\"hatch_alpha\":{\"type\":\"value\",\"value\":0.2}}}}}],\"toolbar\":{\"type\":\"object\",\"name\":\"Toolbar\",\"id\":\"p3266\",\"attributes\":{\"tools\":[{\"id\":\"p3290\"},{\"id\":\"p3291\"},{\"id\":\"p3292\"},{\"type\":\"object\",\"name\":\"SaveTool\",\"id\":\"p3294\"},{\"id\":\"p3295\"},{\"id\":\"p3296\"}]}},\"toolbar_location\":null,\"left\":[{\"type\":\"object\",\"name\":\"LinearAxis\",\"id\":\"p3283\",\"attributes\":{\"ticker\":{\"type\":\"object\",\"name\":\"BasicTicker\",\"id\":\"p3284\",\"attributes\":{\"mantissas\":[1,2,5]}},\"formatter\":{\"type\":\"object\",\"name\":\"BasicTickFormatter\",\"id\":\"p3285\"},\"axis_label\":\"Total amount\",\"major_label_policy\":{\"type\":\"object\",\"name\":\"AllLabels\",\"id\":\"p3286\"}}}],\"below\":[{\"type\":\"object\",\"name\":\"LinearAxis\",\"id\":\"p3276\",\"attributes\":{\"ticker\":{\"type\":\"object\",\"name\":\"BasicTicker\",\"id\":\"p3277\",\"attributes\":{\"mantissas\":[1,2,5]}},\"formatter\":{\"type\":\"object\",\"name\":\"BasicTickFormatter\",\"id\":\"p3278\"},\"axis_label\":\"Payment type\",\"major_label_policy\":{\"type\":\"object\",\"name\":\"AllLabels\",\"id\":\"p3279\"}}}],\"center\":[{\"type\":\"object\",\"name\":\"Grid\",\"id\":\"p3282\",\"attributes\":{\"axis\":{\"id\":\"p3276\"}}},{\"type\":\"object\",\"name\":\"Grid\",\"id\":\"p3289\",\"attributes\":{\"dimension\":1,\"axis\":{\"id\":\"p3283\"}}}]}},0,0],[{\"type\":\"object\",\"name\":\"Figure\",\"id\":\"p3317\",\"attributes\":{\"width\":500,\"height\":300,\"x_range\":{\"type\":\"object\",\"name\":\"DataRange1d\",\"id\":\"p3319\"},\"y_range\":{\"type\":\"object\",\"name\":\"DataRange1d\",\"id\":\"p3318\"},\"x_scale\":{\"type\":\"object\",\"name\":\"LinearScale\",\"id\":\"p3331\"},\"y_scale\":{\"type\":\"object\",\"name\":\"LinearScale\",\"id\":\"p3333\"},\"title\":{\"type\":\"object\",\"name\":\"Title\",\"id\":\"p3320\",\"attributes\":{\"text\":\"Congestion surcharge vs. Total amount\"}},\"renderers\":[{\"type\":\"object\",\"name\":\"GlyphRenderer\",\"id\":\"p3370\",\"attributes\":{\"data_source\":{\"type\":\"object\",\"name\":\"ColumnDataSource\",\"id\":\"p3314\",\"attributes\":{\"selected\":{\"type\":\"object\",\"name\":\"Selection\",\"id\":\"p3316\",\"attributes\":{\"indices\":[],\"line_indices\":[]}},\"selection_policy\":{\"type\":\"object\",\"name\":\"UnionRenderers\",\"id\":\"p3315\"},\"data\":{\"type\":\"map\",\"entries\":[[\"index\",{\"type\":\"ndarray\",\"array\":{\"type\":\"bytes\",\"data\":\"AAAAAAEAAAACAAAA\"},\"shape\":[3],\"dtype\":\"int32\",\"order\":\"little\"}],[\"congestion_surcharge\",{\"type\":\"ndarray\",\"array\":{\"type\":\"bytes\",\"data\":\"AAAAAAAABMAAAAAAAAAAAAAAAAAAAARA\"},\"shape\":[3],\"dtype\":\"float64\",\"order\":\"little\"}],[\"total_amount\",{\"type\":\"ndarray\",\"array\":{\"type\":\"bytes\",\"data\":\"C4SRdqzAMcC+MK57jY5CQEaqiB1I7zNA\"},\"shape\":[3],\"dtype\":\"float64\",\"order\":\"little\"}]]}}},\"view\":{\"type\":\"object\",\"name\":\"CDSView\",\"id\":\"p3371\",\"attributes\":{\"filter\":{\"type\":\"object\",\"name\":\"AllIndices\",\"id\":\"p3372\"}}},\"glyph\":{\"type\":\"object\",\"name\":\"VBar\",\"id\":\"p3367\",\"attributes\":{\"x\":{\"type\":\"field\",\"field\":\"congestion_surcharge\"},\"width\":{\"type\":\"value\",\"value\":0.5},\"top\":{\"type\":\"field\",\"field\":\"total_amount\"},\"line_color\":{\"type\":\"value\",\"value\":\"#1f77b4\"},\"fill_color\":{\"type\":\"value\",\"value\":\"#1f77b4\"}}},\"nonselection_glyph\":{\"type\":\"object\",\"name\":\"VBar\",\"id\":\"p3368\",\"attributes\":{\"x\":{\"type\":\"field\",\"field\":\"congestion_surcharge\"},\"width\":{\"type\":\"value\",\"value\":0.5},\"top\":{\"type\":\"field\",\"field\":\"total_amount\"},\"line_color\":{\"type\":\"value\",\"value\":\"#1f77b4\"},\"line_alpha\":{\"type\":\"value\",\"value\":0.1},\"fill_color\":{\"type\":\"value\",\"value\":\"#1f77b4\"},\"fill_alpha\":{\"type\":\"value\",\"value\":0.1},\"hatch_alpha\":{\"type\":\"value\",\"value\":0.1}}},\"muted_glyph\":{\"type\":\"object\",\"name\":\"VBar\",\"id\":\"p3369\",\"attributes\":{\"x\":{\"type\":\"field\",\"field\":\"congestion_surcharge\"},\"width\":{\"type\":\"value\",\"value\":0.5},\"top\":{\"type\":\"field\",\"field\":\"total_amount\"},\"line_color\":{\"type\":\"value\",\"value\":\"#1f77b4\"},\"line_alpha\":{\"type\":\"value\",\"value\":0.2},\"fill_color\":{\"type\":\"value\",\"value\":\"#1f77b4\"},\"fill_alpha\":{\"type\":\"value\",\"value\":0.2},\"hatch_alpha\":{\"type\":\"value\",\"value\":0.2}}}}}],\"toolbar\":{\"type\":\"object\",\"name\":\"Toolbar\",\"id\":\"p3325\",\"attributes\":{\"tools\":[{\"id\":\"p3349\"},{\"id\":\"p3350\"},{\"id\":\"p3351\"},{\"type\":\"object\",\"name\":\"SaveTool\",\"id\":\"p3353\"},{\"id\":\"p3354\"},{\"id\":\"p3355\"}]}},\"toolbar_location\":null,\"left\":[{\"type\":\"object\",\"name\":\"LinearAxis\",\"id\":\"p3342\",\"attributes\":{\"ticker\":{\"type\":\"object\",\"name\":\"BasicTicker\",\"id\":\"p3343\",\"attributes\":{\"mantissas\":[1,2,5]}},\"formatter\":{\"type\":\"object\",\"name\":\"BasicTickFormatter\",\"id\":\"p3344\"},\"axis_label\":\"Total amount\",\"major_label_policy\":{\"type\":\"object\",\"name\":\"AllLabels\",\"id\":\"p3345\"}}}],\"below\":[{\"type\":\"object\",\"name\":\"LinearAxis\",\"id\":\"p3335\",\"attributes\":{\"ticker\":{\"type\":\"object\",\"name\":\"BasicTicker\",\"id\":\"p3336\",\"attributes\":{\"mantissas\":[1,2,5]}},\"formatter\":{\"type\":\"object\",\"name\":\"BasicTickFormatter\",\"id\":\"p3337\"},\"axis_label\":\"Congestion surcharge\",\"major_label_policy\":{\"type\":\"object\",\"name\":\"AllLabels\",\"id\":\"p3338\"}}}],\"center\":[{\"type\":\"object\",\"name\":\"Grid\",\"id\":\"p3341\",\"attributes\":{\"axis\":{\"id\":\"p3335\"}}},{\"type\":\"object\",\"name\":\"Grid\",\"id\":\"p3348\",\"attributes\":{\"dimension\":1,\"axis\":{\"id\":\"p3342\"}}}]}},0,1]]}}],\"callbacks\":{\"type\":\"map\"}}};\n",
       "  const render_items = [{\"docid\":\"97c8c7ca-4380-4f37-ada9-a29c72e714c3\",\"roots\":{\"p3410\":\"bb39d343-4fad-44f8-a780-c77837b84199\"},\"root_ids\":[\"p3410\"]}];\n",
       "  root.Bokeh.embed.embed_items_notebook(docs_json, render_items);\n",
       "  }\n",
       "  if (root.Bokeh !== undefined) {\n",
       "    embed_document(root);\n",
       "  } else {\n",
       "    let attempts = 0;\n",
       "    const timer = setInterval(function(root) {\n",
       "      if (root.Bokeh !== undefined) {\n",
       "        clearInterval(timer);\n",
       "        embed_document(root);\n",
       "      } else {\n",
       "        attempts++;\n",
       "        if (attempts > 100) {\n",
       "          clearInterval(timer);\n",
       "          console.log(\"Bokeh: ERROR: Unable to run BokehJS code because BokehJS library is missing\");\n",
       "        }\n",
       "      }\n",
       "    }, 10, root)\n",
       "  }\n",
       "})(window);"
      ],
      "application/vnd.bokehjs_exec.v0+json": ""
     },
     "metadata": {
      "application/vnd.bokehjs_exec.v0+json": {
       "id": "p3410"
      }
     },
     "output_type": "display_data"
    },
    {
     "data": {
      "text/plain": [
       "'C:\\\\Users\\\\Chizzy\\\\Documents\\\\Notebooks\\\\Bokeh\\\\img\\\\fig7.png'"
      ]
     },
     "execution_count": 29,
     "metadata": {},
     "output_type": "execute_result"
    }
   ],
   "source": [
    "grouped = df.groupby('payment_type').agg({'total_amount': 'mean'})\n",
    "grouped = grouped.reset_index()\n",
    "source = ColumnDataSource(grouped)\n",
    "p5 = figure(title='Payment type vs. Total amount', x_axis_label='Payment type', y_axis_label='Total amount', height=300, width=500)\n",
    "p5.vbar(x='payment_type', top='total_amount', width=0.5, source=source)\n",
    "\n",
    "# Plot 6 - Congestion surcharge vs. Total amount\n",
    "grouped = df.groupby('congestion_surcharge').agg({'total_amount': 'mean'})\n",
    "grouped = grouped.reset_index()\n",
    "source = ColumnDataSource(grouped)\n",
    "p6 = figure(title='Congestion surcharge vs. Total amount', x_axis_label='Congestion surcharge', y_axis_label='Total amount', height=300, width=500)\n",
    "p6.vbar(x='congestion_surcharge', top='total_amount', width=0.5, source=source)\n",
    "\n",
    "# Create a grid of plots and show them\n",
    "grid = gridplot([[p5, p6]])\n",
    "show(grid)\n",
    "\n",
    "export_png(grid, filename=\"img/fig7.png\")"
   ]
  },
  {
   "cell_type": "markdown",
   "id": "09aeb13e-54b6-4746-bc79-f7ad489119fe",
   "metadata": {},
   "source": [
    "## Types of plots available\n",
    "\n",
    "-------------\n",
    "\n",
    "Line plot: `p.line`\n",
    "\n",
    "Scatter plot: `p.scatter` or `p.circle`\n",
    "\n",
    "Bar plot: `p.vbar` or `p.hbar`\n",
    "\n",
    "Stacked bar plot: `p.vbar_stack` or `p.hbar_stack`\n",
    "\n",
    "Area plot: `p.varea` or `p.harea`\n",
    "\n",
    "Stacked area plot: `p.varea_stack` or `p.harea_stack`\n",
    "\n",
    "Heatmap plot: `p.rect` or `p.image`\n",
    "\n",
    "Box plot: `p.boxplot`\n",
    "\n",
    "Violin plot: `p.violin`\n",
    "\n",
    "Donut plot: `p.donut`\n",
    "\n",
    "Pie chart: `p.wedge`\n",
    "\n",
    "Polar plot: `p.polar`"
   ]
  },
  {
   "cell_type": "code",
   "execution_count": null,
   "id": "e159cb73-010a-4aef-bb76-cbaaf3757a83",
   "metadata": {},
   "outputs": [],
   "source": []
  }
 ],
 "metadata": {
  "kernelspec": {
   "display_name": "Python 3 (ipykernel)",
   "language": "python",
   "name": "python3"
  },
  "language_info": {
   "codemirror_mode": {
    "name": "ipython",
    "version": 3
   },
   "file_extension": ".py",
   "mimetype": "text/x-python",
   "name": "python",
   "nbconvert_exporter": "python",
   "pygments_lexer": "ipython3",
   "version": "3.9.16"
  }
 },
 "nbformat": 4,
 "nbformat_minor": 5
}
